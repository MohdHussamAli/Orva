{
 "cells": [
  {
   "cell_type": "code",
   "execution_count": 1,
   "id": "e96a1146-a72b-4254-ad1e-7980016150b6",
   "metadata": {
    "tags": []
   },
   "outputs": [
    {
     "name": "stdout",
     "output_type": "stream",
     "text": [
      "Requirement already satisfied: google-cloud-aiplatform in /home/jupyter/.local/lib/python3.10/site-packages (1.50.0)\n",
      "Requirement already satisfied: google-cloud-storage in /home/jupyter/.local/lib/python3.10/site-packages (2.16.0)\n",
      "Requirement already satisfied: google-cloud-bigquery[pandas] in /opt/conda/lib/python3.10/site-packages (3.21.0)\n",
      "Requirement already satisfied: google-api-core!=2.0.*,!=2.1.*,!=2.2.*,!=2.3.*,!=2.4.*,!=2.5.*,!=2.6.*,!=2.7.*,<3.0.0dev,>=1.34.1 in /home/jupyter/.local/lib/python3.10/site-packages (from google-api-core[grpc]!=2.0.*,!=2.1.*,!=2.2.*,!=2.3.*,!=2.4.*,!=2.5.*,!=2.6.*,!=2.7.*,<3.0.0dev,>=1.34.1->google-cloud-aiplatform) (2.19.0)\n",
      "Requirement already satisfied: google-auth<3.0.0dev,>=2.14.1 in /opt/conda/lib/python3.10/site-packages (from google-cloud-aiplatform) (2.29.0)\n",
      "Requirement already satisfied: proto-plus<2.0.0dev,>=1.22.0 in /opt/conda/lib/python3.10/site-packages (from google-cloud-aiplatform) (1.23.0)\n",
      "Requirement already satisfied: protobuf!=3.20.0,!=3.20.1,!=4.21.0,!=4.21.1,!=4.21.2,!=4.21.3,!=4.21.4,!=4.21.5,<5.0.0dev,>=3.19.5 in /opt/conda/lib/python3.10/site-packages (from google-cloud-aiplatform) (3.20.3)\n",
      "Requirement already satisfied: packaging>=14.3 in /opt/conda/lib/python3.10/site-packages (from google-cloud-aiplatform) (24.0)\n",
      "Requirement already satisfied: google-cloud-resource-manager<3.0.0dev,>=1.3.3 in /opt/conda/lib/python3.10/site-packages (from google-cloud-aiplatform) (1.12.3)\n",
      "Requirement already satisfied: shapely<3.0.0dev in /opt/conda/lib/python3.10/site-packages (from google-cloud-aiplatform) (1.8.5.post1)\n",
      "Requirement already satisfied: pydantic<3 in /opt/conda/lib/python3.10/site-packages (from google-cloud-aiplatform) (1.10.15)\n",
      "Requirement already satisfied: docstring-parser<1 in /opt/conda/lib/python3.10/site-packages (from google-cloud-aiplatform) (0.16)\n",
      "Requirement already satisfied: google-cloud-core<3.0dev,>=2.3.0 in /opt/conda/lib/python3.10/site-packages (from google-cloud-storage) (2.4.1)\n",
      "Requirement already satisfied: google-resumable-media>=2.6.0 in /opt/conda/lib/python3.10/site-packages (from google-cloud-storage) (2.7.0)\n",
      "Requirement already satisfied: requests<3.0.0dev,>=2.18.0 in /opt/conda/lib/python3.10/site-packages (from google-cloud-storage) (2.31.0)\n",
      "Requirement already satisfied: google-crc32c<2.0dev,>=1.0 in /opt/conda/lib/python3.10/site-packages (from google-cloud-storage) (1.5.0)\n",
      "Requirement already satisfied: python-dateutil<3.0dev,>=2.7.2 in /opt/conda/lib/python3.10/site-packages (from google-cloud-bigquery[pandas]) (2.9.0)\n",
      "Requirement already satisfied: pandas>=1.1.0 in /opt/conda/lib/python3.10/site-packages (from google-cloud-bigquery[pandas]) (2.0.3)\n",
      "Requirement already satisfied: pyarrow>=3.0.0 in /opt/conda/lib/python3.10/site-packages (from google-cloud-bigquery[pandas]) (9.0.0)\n",
      "Requirement already satisfied: db-dtypes<2.0.0dev,>=0.3.0 in /opt/conda/lib/python3.10/site-packages (from google-cloud-bigquery[pandas]) (1.2.0)\n",
      "Requirement already satisfied: numpy>=1.16.6 in /opt/conda/lib/python3.10/site-packages (from db-dtypes<2.0.0dev,>=0.3.0->google-cloud-bigquery[pandas]) (1.24.4)\n",
      "Requirement already satisfied: googleapis-common-protos<2.0.dev0,>=1.56.2 in /opt/conda/lib/python3.10/site-packages (from google-api-core!=2.0.*,!=2.1.*,!=2.2.*,!=2.3.*,!=2.4.*,!=2.5.*,!=2.6.*,!=2.7.*,<3.0.0dev,>=1.34.1->google-api-core[grpc]!=2.0.*,!=2.1.*,!=2.2.*,!=2.3.*,!=2.4.*,!=2.5.*,!=2.6.*,!=2.7.*,<3.0.0dev,>=1.34.1->google-cloud-aiplatform) (1.63.0)\n",
      "Requirement already satisfied: grpcio<2.0dev,>=1.33.2 in /opt/conda/lib/python3.10/site-packages (from google-api-core[grpc]!=2.0.*,!=2.1.*,!=2.2.*,!=2.3.*,!=2.4.*,!=2.5.*,!=2.6.*,!=2.7.*,<3.0.0dev,>=1.34.1->google-cloud-aiplatform) (1.62.2)\n",
      "Requirement already satisfied: grpcio-status<2.0.dev0,>=1.33.2 in /opt/conda/lib/python3.10/site-packages (from google-api-core[grpc]!=2.0.*,!=2.1.*,!=2.2.*,!=2.3.*,!=2.4.*,!=2.5.*,!=2.6.*,!=2.7.*,<3.0.0dev,>=1.34.1->google-cloud-aiplatform) (1.48.1)\n",
      "Requirement already satisfied: cachetools<6.0,>=2.0.0 in /opt/conda/lib/python3.10/site-packages (from google-auth<3.0.0dev,>=2.14.1->google-cloud-aiplatform) (4.2.4)\n",
      "Requirement already satisfied: pyasn1-modules>=0.2.1 in /opt/conda/lib/python3.10/site-packages (from google-auth<3.0.0dev,>=2.14.1->google-cloud-aiplatform) (0.4.0)\n",
      "Requirement already satisfied: rsa<5,>=3.1.4 in /opt/conda/lib/python3.10/site-packages (from google-auth<3.0.0dev,>=2.14.1->google-cloud-aiplatform) (4.9)\n",
      "Requirement already satisfied: grpc-google-iam-v1<1.0.0dev,>=0.12.4 in /opt/conda/lib/python3.10/site-packages (from google-cloud-resource-manager<3.0.0dev,>=1.3.3->google-cloud-aiplatform) (0.12.7)\n",
      "Requirement already satisfied: pytz>=2020.1 in /opt/conda/lib/python3.10/site-packages (from pandas>=1.1.0->google-cloud-bigquery[pandas]) (2024.1)\n",
      "Requirement already satisfied: tzdata>=2022.1 in /opt/conda/lib/python3.10/site-packages (from pandas>=1.1.0->google-cloud-bigquery[pandas]) (2024.1)\n",
      "Requirement already satisfied: typing-extensions>=4.2.0 in /opt/conda/lib/python3.10/site-packages (from pydantic<3->google-cloud-aiplatform) (4.11.0)\n",
      "Requirement already satisfied: six>=1.5 in /opt/conda/lib/python3.10/site-packages (from python-dateutil<3.0dev,>=2.7.2->google-cloud-bigquery[pandas]) (1.16.0)\n",
      "Requirement already satisfied: charset-normalizer<4,>=2 in /opt/conda/lib/python3.10/site-packages (from requests<3.0.0dev,>=2.18.0->google-cloud-storage) (3.3.2)\n",
      "Requirement already satisfied: idna<4,>=2.5 in /opt/conda/lib/python3.10/site-packages (from requests<3.0.0dev,>=2.18.0->google-cloud-storage) (3.7)\n",
      "Requirement already satisfied: urllib3<3,>=1.21.1 in /opt/conda/lib/python3.10/site-packages (from requests<3.0.0dev,>=2.18.0->google-cloud-storage) (1.26.18)\n",
      "Requirement already satisfied: certifi>=2017.4.17 in /opt/conda/lib/python3.10/site-packages (from requests<3.0.0dev,>=2.18.0->google-cloud-storage) (2024.2.2)\n",
      "Requirement already satisfied: pyasn1<0.7.0,>=0.4.6 in /opt/conda/lib/python3.10/site-packages (from pyasn1-modules>=0.2.1->google-auth<3.0.0dev,>=2.14.1->google-cloud-aiplatform) (0.6.0)\n"
     ]
    }
   ],
   "source": [
    "!pip install --upgrade --user google-cloud-aiplatform google-cloud-storage 'google-cloud-bigquery[pandas]'"
   ]
  },
  {
   "cell_type": "code",
   "execution_count": 2,
   "id": "0bc5b393-785a-4c58-95db-dbe5da38c7a3",
   "metadata": {
    "tags": []
   },
   "outputs": [
    {
     "data": {
      "text/plain": [
       "{'status': 'ok', 'restart': True}"
      ]
     },
     "execution_count": 2,
     "metadata": {},
     "output_type": "execute_result"
    }
   ],
   "source": [
    "# Restart kernel after installs so that your environment can access the new packages\n",
    "import IPython\n",
    "\n",
    "app = IPython.Application.instance()\n",
    "app.kernel.do_shutdown(True)"
   ]
  },
  {
   "cell_type": "code",
   "execution_count": 1,
   "id": "6198ed8b-b600-47a4-8bfc-841d04ce650d",
   "metadata": {
    "tags": []
   },
   "outputs": [],
   "source": [
    "# get project ID\n",
    "PROJECT_ID = ! gcloud config get project\n",
    "PROJECT_ID = PROJECT_ID[0]\n",
    "LOCATION = \"us-central1\"\n",
    "if PROJECT_ID == \"(unset)\":\n",
    "    print(f\"Please set the project ID manually below\")"
   ]
  },
  {
   "cell_type": "code",
   "execution_count": 2,
   "id": "aeab5cea-f94d-41b2-a5b8-3b9c11523693",
   "metadata": {
    "tags": []
   },
   "outputs": [],
   "source": [
    "# define project information\n",
    "if PROJECT_ID == \"(unset)\":\n",
    "    PROJECT_ID = \"[your-project-id]\"  # @param {type:\"string\"}\n",
    "\n",
    "# generate an unique id for this session\n",
    "from datetime import datetime\n",
    "\n",
    "UID = datetime.now().strftime(\"%m%d%H%M\")"
   ]
  },
  {
   "cell_type": "code",
   "execution_count": 3,
   "id": "23421f1c-b2d7-4b55-b910-5d34718c5550",
   "metadata": {
    "tags": []
   },
   "outputs": [
    {
     "name": "stdout",
     "output_type": "stream",
     "text": [
      "Operation \"operations/acat.p2-900493032577-5431ece7-4303-4a92-938c-4b53e41b7f25\" finished successfully.\n"
     ]
    }
   ],
   "source": [
    "! gcloud services enable compute.googleapis.com aiplatform.googleapis.com storage.googleapis.com bigquery.googleapis.com --project {PROJECT_ID}\n"
   ]
  },
  {
   "cell_type": "code",
   "execution_count": 6,
   "id": "5f75b5d7",
   "metadata": {},
   "outputs": [
    {
     "data": {
      "text/html": [
       "<div>\n",
       "<style scoped>\n",
       "    .dataframe tbody tr th:only-of-type {\n",
       "        vertical-align: middle;\n",
       "    }\n",
       "\n",
       "    .dataframe tbody tr th {\n",
       "        vertical-align: top;\n",
       "    }\n",
       "\n",
       "    .dataframe thead th {\n",
       "        text-align: right;\n",
       "    }\n",
       "</style>\n",
       "<table border=\"1\" class=\"dataframe\">\n",
       "  <thead>\n",
       "    <tr style=\"text-align: right;\">\n",
       "      <th></th>\n",
       "      <th>Unnamed: 0</th>\n",
       "      <th>id</th>\n",
       "      <th>title</th>\n",
       "    </tr>\n",
       "  </thead>\n",
       "  <tbody>\n",
       "    <tr>\n",
       "      <th>0</th>\n",
       "      <td>0</td>\n",
       "      <td>1</td>\n",
       "      <td>When can I start driving again? Driving after ...</td>\n",
       "    </tr>\n",
       "    <tr>\n",
       "      <th>1</th>\n",
       "      <td>1</td>\n",
       "      <td>2</td>\n",
       "      <td>When can I drive? Driving after a total knee r...</td>\n",
       "    </tr>\n",
       "    <tr>\n",
       "      <th>2</th>\n",
       "      <td>2</td>\n",
       "      <td>3</td>\n",
       "      <td>When will I be able to drive again? Driving af...</td>\n",
       "    </tr>\n",
       "    <tr>\n",
       "      <th>3</th>\n",
       "      <td>3</td>\n",
       "      <td>4</td>\n",
       "      <td>My knee still hurts but am I able to drive? Dr...</td>\n",
       "    </tr>\n",
       "    <tr>\n",
       "      <th>4</th>\n",
       "      <td>4</td>\n",
       "      <td>5</td>\n",
       "      <td>How long after surgery can I drive? Driving af...</td>\n",
       "    </tr>\n",
       "    <tr>\n",
       "      <th>...</th>\n",
       "      <td>...</td>\n",
       "      <td>...</td>\n",
       "      <td>...</td>\n",
       "    </tr>\n",
       "    <tr>\n",
       "      <th>711</th>\n",
       "      <td>711</td>\n",
       "      <td>712</td>\n",
       "      <td>I need to enter my Range of Motion  Range of M...</td>\n",
       "    </tr>\n",
       "    <tr>\n",
       "      <th>712</th>\n",
       "      <td>712</td>\n",
       "      <td>713</td>\n",
       "      <td>Enter Range of Motion  Range of Motion is show...</td>\n",
       "    </tr>\n",
       "    <tr>\n",
       "      <th>713</th>\n",
       "      <td>713</td>\n",
       "      <td>714</td>\n",
       "      <td>How should I ask you questions to get good ans...</td>\n",
       "    </tr>\n",
       "    <tr>\n",
       "      <th>714</th>\n",
       "      <td>714</td>\n",
       "      <td>715</td>\n",
       "      <td>How should I format my questions Thank you for...</td>\n",
       "    </tr>\n",
       "    <tr>\n",
       "      <th>715</th>\n",
       "      <td>715</td>\n",
       "      <td>716</td>\n",
       "      <td>How should I format my questions to you? Thank...</td>\n",
       "    </tr>\n",
       "  </tbody>\n",
       "</table>\n",
       "<p>716 rows × 3 columns</p>\n",
       "</div>"
      ],
      "text/plain": [
       "     Unnamed: 0   id                                              title\n",
       "0             0    1  When can I start driving again? Driving after ...\n",
       "1             1    2  When can I drive? Driving after a total knee r...\n",
       "2             2    3  When will I be able to drive again? Driving af...\n",
       "3             3    4  My knee still hurts but am I able to drive? Dr...\n",
       "4             4    5  How long after surgery can I drive? Driving af...\n",
       "..          ...  ...                                                ...\n",
       "711         711  712  I need to enter my Range of Motion  Range of M...\n",
       "712         712  713  Enter Range of Motion  Range of Motion is show...\n",
       "713         713  714  How should I ask you questions to get good ans...\n",
       "714         714  715  How should I format my questions Thank you for...\n",
       "715         715  716  How should I format my questions to you? Thank...\n",
       "\n",
       "[716 rows x 3 columns]"
      ]
     },
     "execution_count": 6,
     "metadata": {},
     "output_type": "execute_result"
    }
   ],
   "source": [
    "import pandas as pd\n",
    "df=pd.read_csv(\"./orva_data.csv\")\n",
    "df['title'] = df['question'] + \" \" + df['title']\n",
    "df = df.drop(['question'], axis=1)\n",
    "df"
   ]
  },
  {
   "cell_type": "code",
   "execution_count": 7,
   "id": "6125584f-43b8-4bcf-a51c-c2ca7b53f828",
   "metadata": {
    "tags": []
   },
   "outputs": [],
   "source": [
    "# init the vertexai package\n",
    "import vertexai\n",
    "\n",
    "vertexai.init(project=PROJECT_ID, location=LOCATION)"
   ]
  },
  {
   "cell_type": "code",
   "execution_count": 8,
   "id": "514240dc-dc94-4038-a416-3cea0bb5b2b9",
   "metadata": {
    "tags": []
   },
   "outputs": [],
   "source": [
    "# Load the text embeddings model\n",
    "from vertexai.preview.language_models import TextEmbeddingModel\n",
    "\n",
    "model = TextEmbeddingModel.from_pretrained(\"textembedding-gecko@001\")"
   ]
  },
  {
   "cell_type": "code",
   "execution_count": 9,
   "id": "2a6a9b1e-2c4a-4bed-9d72-4814685dfeef",
   "metadata": {
    "tags": []
   },
   "outputs": [],
   "source": [
    "import time\n",
    "import tqdm  # to show a progress bar\n",
    "\n",
    "# get embeddings for a list of texts\n",
    "BATCH_SIZE = 5\n",
    "\n",
    "\n",
    "def get_embeddings_wrapper(texts):\n",
    "    embs = []\n",
    "    for i in tqdm.tqdm(range(0, len(texts), BATCH_SIZE)):\n",
    "        time.sleep(1)  # to avoid the quota error\n",
    "        result = model.get_embeddings(texts[i : i + BATCH_SIZE])\n",
    "        embs = embs + [e.values for e in result]\n",
    "    return embs"
   ]
  },
  {
   "cell_type": "code",
   "execution_count": 10,
   "id": "72a66f07-1ed1-442e-8826-181755702fbe",
   "metadata": {
    "tags": []
   },
   "outputs": [
    {
     "name": "stderr",
     "output_type": "stream",
     "text": [
      "100%|██████████| 144/144 [02:39<00:00,  1.10s/it]\n"
     ]
    },
    {
     "data": {
      "text/html": [
       "<div>\n",
       "<style scoped>\n",
       "    .dataframe tbody tr th:only-of-type {\n",
       "        vertical-align: middle;\n",
       "    }\n",
       "\n",
       "    .dataframe tbody tr th {\n",
       "        vertical-align: top;\n",
       "    }\n",
       "\n",
       "    .dataframe thead th {\n",
       "        text-align: right;\n",
       "    }\n",
       "</style>\n",
       "<table border=\"1\" class=\"dataframe\">\n",
       "  <thead>\n",
       "    <tr style=\"text-align: right;\">\n",
       "      <th></th>\n",
       "      <th>id</th>\n",
       "      <th>title</th>\n",
       "      <th>embedding</th>\n",
       "    </tr>\n",
       "  </thead>\n",
       "  <tbody>\n",
       "    <tr>\n",
       "      <th>0</th>\n",
       "      <td>1</td>\n",
       "      <td>When can I start driving again? Driving after ...</td>\n",
       "      <td>[-0.0066839782521128654, -0.03569670766592026,...</td>\n",
       "    </tr>\n",
       "    <tr>\n",
       "      <th>1</th>\n",
       "      <td>2</td>\n",
       "      <td>When can I drive? Driving after a total knee r...</td>\n",
       "      <td>[-0.008440850302577019, -0.04061223939061165, ...</td>\n",
       "    </tr>\n",
       "    <tr>\n",
       "      <th>2</th>\n",
       "      <td>3</td>\n",
       "      <td>When will I be able to drive again? Driving af...</td>\n",
       "      <td>[-0.009732662700116634, -0.03572031483054161, ...</td>\n",
       "    </tr>\n",
       "    <tr>\n",
       "      <th>3</th>\n",
       "      <td>4</td>\n",
       "      <td>My knee still hurts but am I able to drive? Dr...</td>\n",
       "      <td>[-0.020311227068305016, -0.02924209088087082, ...</td>\n",
       "    </tr>\n",
       "    <tr>\n",
       "      <th>4</th>\n",
       "      <td>5</td>\n",
       "      <td>How long after surgery can I drive? Driving af...</td>\n",
       "      <td>[-0.010605815798044205, -0.036168962717056274,...</td>\n",
       "    </tr>\n",
       "  </tbody>\n",
       "</table>\n",
       "</div>"
      ],
      "text/plain": [
       "   id                                              title  \\\n",
       "0   1  When can I start driving again? Driving after ...   \n",
       "1   2  When can I drive? Driving after a total knee r...   \n",
       "2   3  When will I be able to drive again? Driving af...   \n",
       "3   4  My knee still hurts but am I able to drive? Dr...   \n",
       "4   5  How long after surgery can I drive? Driving af...   \n",
       "\n",
       "                                           embedding  \n",
       "0  [-0.0066839782521128654, -0.03569670766592026,...  \n",
       "1  [-0.008440850302577019, -0.04061223939061165, ...  \n",
       "2  [-0.009732662700116634, -0.03572031483054161, ...  \n",
       "3  [-0.020311227068305016, -0.02924209088087082, ...  \n",
       "4  [-0.010605815798044205, -0.036168962717056274,...  "
      ]
     },
     "execution_count": 10,
     "metadata": {},
     "output_type": "execute_result"
    }
   ],
   "source": [
    "# get embeddings for the question titles and add them as \"embedding\" column\n",
    "df = df.assign(embedding=get_embeddings_wrapper(list(df.title)))\n",
    "df.head()"
   ]
  },
  {
   "cell_type": "code",
   "execution_count": 11,
   "id": "701e754f-d48d-4df2-ae74-c788f4492511",
   "metadata": {
    "tags": []
   },
   "outputs": [
    {
     "data": {
      "text/plain": [
       "array([0.72825709, 0.72765494, 0.72793133, 0.72346979, 0.71986001])"
      ]
     },
     "execution_count": 11,
     "metadata": {},
     "output_type": "execute_result"
    }
   ],
   "source": [
    "import random\n",
    "import numpy as np\n",
    "\n",
    "# pick one of them as a key question\n",
    "key = random.randint(0, len(df))\n",
    "\n",
    "# calc dot product between the key and other questions\n",
    "embs = np.array(df.embedding.to_list())\n",
    "similarities = np.dot(embs[key], embs.T)\n",
    "\n",
    "# print similarities for the first 5 questions\n",
    "similarities[:5]"
   ]
  },
  {
   "cell_type": "code",
   "execution_count": 12,
   "id": "97ef628a-d06c-4c51-b2d2-347e66091062",
   "metadata": {
    "tags": []
   },
   "outputs": [
    {
     "name": "stdout",
     "output_type": "stream",
     "text": [
      "Key question: Is ROM important  Maintaining and gradually improving your range of motion (ROM) is crucial for a successful recovery after total knee arthroplasty. Physical therapy exercises, stretching, and controlled movements help prevent stiffness and increase flexibility in your knee joint. Adequate range of motion enables you to perform daily activities more comfortably and reduces the risk of complications such as contractures or muscle weakness.\n",
      "\n",
      "1.0000 Is ROM important  Maintaining and gradually improving your range of motion (ROM) is crucial for a successful recovery after total knee arthroplasty. Physical therapy exercises, stretching, and controlled movements help prevent stiffness and increase flexibility in your knee joint. Adequate range of motion enables you to perform daily activities more comfortably and reduces the risk of complications such as contractures or muscle weakness.\n",
      "1.0000 Is ROM important  Maintaining and gradually improving your range of motion (ROM) is crucial for a successful recovery after total knee arthroplasty. Physical therapy exercises, stretching, and controlled movements help prevent stiffness and increase flexibility in your knee joint. Adequate range of motion enables you to perform daily activities more comfortably and reduces the risk of complications such as contractures or muscle weakness.\n",
      "0.9757 Is range of motion important? Maintaining and gradually improving your range of motion (ROM) is crucial for a successful recovery after total knee arthroplasty. Physical therapy exercises, stretching, and controlled movements help prevent stiffness and increase flexibility in your knee joint. Adequate range of motion enables you to perform daily activities more comfortably and reduces the risk of complications such as contractures or muscle weakness.\n",
      "0.9509 what is range of motion  Maintaining and gradually improving your range of motion (ROM) is crucial for a successful recovery after total knee arthroplasty. Physical therapy exercises, stretching, and controlled movements help prevent stiffness and increase flexibility in your knee joint. Adequate range of motion enables you to perform daily activities more comfortably and reduces the risk of complications such as contractures or muscle weakness.\n",
      "0.9271 why does range of motion matter  Maintaining and gradually improving your range of motion (ROM) is crucial for a successful recovery after total knee arthroplasty. Physical therapy exercises, stretching, and controlled movements help prevent stiffness and increase flexibility in your knee joint. Adequate range of motion enables you to perform daily activities more comfortably and reduces the risk of complications such as contractures or muscle weakness.\n",
      "0.9238 Should I be paying attention to my range of motion? Maintaining and gradually improving your range of motion (ROM) is crucial for a successful recovery after total knee arthroplasty. Physical therapy exercises, stretching, and controlled movements help prevent stiffness and increase flexibility in your knee joint. Adequate range of motion enables you to perform daily activities more comfortably and reduces the risk of complications such as contractures or muscle weakness.\n",
      "0.9081 Why do I track my ROM   Maintaining and gradually improving your range of motion (ROM) is crucial for a successful recovery after total knee arthroplasty. Physical therapy exercises, stretching, and controlled movements help prevent stiffness and increase flexibility in your knee joint. Adequate range of motion enables you to perform daily activities more comfortably and reduces the risk of complications such as contractures or muscle weakness.\n",
      "0.8781 Why do I track my range of motion  Maintaining and gradually improving your range of motion (ROM) is crucial for a successful recovery after total knee arthroplasty. Physical therapy exercises, stretching, and controlled movements help prevent stiffness and increase flexibility in your knee joint. Adequate range of motion enables you to perform daily activities more comfortably and reduces the risk of complications such as contractures or muscle weakness.\n",
      "0.8224 is it ok to walk Walking is encouraged after total knee arthroplasty as it helps promote circulation, strengthen muscles, and improve overall mobility. You may need assistance or support initially, such as a walker or crutches, but gradually, you should aim to increase your walking distance and intensity as tolerated. \n",
      "\n",
      "Start with short, gentle walks, and listen to your body. If you experience discomfort or fatigue, it's okay to rest and resume walking later. Remember to maintain proper posture and avoid overexertion. Consistent walking, combined with your rehabilitation exercises, will aid in your recovery and enhance the function of your new knee joint. If you have any concerns or encounter difficulties while walking, don't hesitate to reach out to your care team for guidance and support.\n",
      "0.8191 should I be walking  Walking is encouraged after total knee arthroplasty as it helps promote circulation, strengthen muscles, and improve overall mobility. You may need assistance or support initially, such as a walker or crutches, but gradually, you should aim to increase your walking distance and intensity as tolerated. \n",
      "\n",
      "Start with short, gentle walks, and listen to your body. If you experience discomfort or fatigue, it's okay to rest and resume walking later. Remember to maintain proper posture and avoid overexertion. Consistent walking, combined with your rehabilitation exercises, will aid in your recovery and enhance the function of your new knee joint. If you have any concerns or encounter difficulties while walking, don't hesitate to reach out to your care team for guidance and support.\n",
      "0.8179 can i walk Walking is encouraged after total knee arthroplasty as it helps promote circulation, strengthen muscles, and improve overall mobility. You may need assistance or support initially, such as a walker or crutches, but gradually, you should aim to increase your walking distance and intensity as tolerated. \n",
      "\n",
      "Start with short, gentle walks, and listen to your body. If you experience discomfort or fatigue, it's okay to rest and resume walking later. Remember to maintain proper posture and avoid overexertion. Consistent walking, combined with your rehabilitation exercises, will aid in your recovery and enhance the function of your new knee joint. If you have any concerns or encounter difficulties while walking, don't hesitate to reach out to your care team for guidance and support.\n",
      "0.8175 Should I be able to walk? Walking is encouraged after total knee arthroplasty as it helps promote circulation, strengthen muscles, and improve overall mobility. You may need assistance or support initially, such as a walker or crutches, but gradually, you should aim to increase your walking distance and intensity as tolerated. \n",
      "\n",
      "Start with short, gentle walks, and listen to your body. If you experience discomfort or fatigue, it's okay to rest and resume walking later. Remember to maintain proper posture and avoid overexertion. Consistent walking, combined with your rehabilitation exercises, will aid in your recovery and enhance the function of your new knee joint. If you have any concerns or encounter difficulties while walking, don't hesitate to reach out to your care team for guidance and support.\n",
      "0.8142 when should I be walking  Walking is encouraged after total knee arthroplasty as it helps promote circulation, strengthen muscles, and improve overall mobility. You may need assistance or support initially, such as a walker or crutches, but gradually, you should aim to increase your walking distance and intensity as tolerated. \n",
      "\n",
      "Start with short, gentle walks, and listen to your body. If you experience discomfort or fatigue, it's okay to rest and resume walking later. Remember to maintain proper posture and avoid overexertion. Consistent walking, combined with your rehabilitation exercises, will aid in your recovery and enhance the function of your new knee joint. If you have any concerns or encounter difficulties while walking, don't hesitate to reach out to your care team for guidance and support.\n",
      "0.8045 Will I need physical therapy after knee replacement surgery? Keeping up with physical therapy is crucial for regaining knee mobility and strength. In addition to attending in-person physical therapy as directed, be sure to diligently complete the exercises provided within the Orva recovery app as well. The Orva program will play a major role in helping you achieve optimal range of motion and overall recovery goals. Stick closely to the regimen recommended by your physical therapist and the Orva protocol for the best results. Consistent rehab will get you back on your feet faster.\n",
      "0.8027 when can I walk Walking is encouraged after total knee arthroplasty as it helps promote circulation, strengthen muscles, and improve overall mobility. You may need assistance or support initially, such as a walker or crutches, but gradually, you should aim to increase your walking distance and intensity as tolerated. \n",
      "\n",
      "Start with short, gentle walks, and listen to your body. If you experience discomfort or fatigue, it's okay to rest and resume walking later. Remember to maintain proper posture and avoid overexertion. Consistent walking, combined with your rehabilitation exercises, will aid in your recovery and enhance the function of your new knee joint. If you have any concerns or encounter difficulties while walking, don't hesitate to reach out to your care team for guidance and support.\n",
      "0.7999 I walked, is that ok? Walking is encouraged after total knee arthroplasty as it helps promote circulation, strengthen muscles, and improve overall mobility. You may need assistance or support initially, such as a walker or crutches, but gradually, you should aim to increase your walking distance and intensity as tolerated. \n",
      "\n",
      "Start with short, gentle walks, and listen to your body. If you experience discomfort or fatigue, it's okay to rest and resume walking later. Remember to maintain proper posture and avoid overexertion. Consistent walking, combined with your rehabilitation exercises, will aid in your recovery and enhance the function of your new knee joint. If you have any concerns or encounter difficulties while walking, don't hesitate to reach out to your care team for guidance and support.\n",
      "0.7982 How important is it for patients to continue monitoring their knee alignment and posture in the long term? Continuously monitoring knee alignment and posture is very important in the long term to: \n",
      "- **Prevent Abnormal Wear:** On the knee replacement. \n",
      "- **Maintain Joint Health:** Ensuring proper load distribution during activities. \n",
      "- **Reduce the Risk of Falls:** By promoting better balance. \n",
      "- **Prevent Other Musculoskeletal Issues:** Like back pain or hip problems. \n",
      "- **Optimize Overall Function:** For a more active lifestyle.\n",
      "0.7968 Can I skip a day of rehab? While missing one rehabilitation session may not significantly impact your overall progress, consistency in attending rehab sessions is essential for achieving optimal outcomes after total knee arthroplasty. \n",
      "\n",
      "Your rehabilitation program is designed to gradually improve strength, flexibility, and function in your knee joint. Skipping sessions regularly may hinder your recovery and delay your return to normal activities. If you're unable to attend a scheduled session, it's essential to communicate with your healthcare provider to discuss alternative arrangements or exercises you can perform at home.\n",
      "0.7966 Is it ok to skip a day of rehab While missing one rehabilitation session may not significantly impact your overall progress, consistency in attending rehab sessions is essential for achieving optimal outcomes after total knee arthroplasty. \n",
      "\n",
      "Your rehabilitation program is designed to gradually improve strength, flexibility, and function in your knee joint. Skipping sessions regularly may hinder your recovery and delay your return to normal activities. If you're unable to attend a scheduled session, it's essential to communicate with your healthcare provider to discuss alternative arrangements or exercises you can perform at home.\n",
      "0.7965 How long should I use a walker for? The duration for which you'll need to use a walker after your total knee replacement surgery largely depends on your individual recovery process, including how quickly your strength and balance improve. Typically, patients may transition away from using a walker within 3 to 6 weeks post-operation. This timeline can be influenced by several factors, including your pre-surgery physical condition, your commitment to rehabilitation exercises, and your body's natural healing response. \n",
      "\n",
      "Following your prescribed physical therapy program closely can hasten your transition to walking without assistance, by improving muscle strength and increasing the flexibility of your joints, thereby facilitating unaided mobility.\n"
     ]
    }
   ],
   "source": [
    "# print the question\n",
    "print(f\"Key question: {df.title[key]}\\n\")\n",
    "\n",
    "# sort and print the questions by similarities\n",
    "sorted_questions = sorted(\n",
    "    zip(df.title, similarities), key=lambda x: x[1], reverse=True\n",
    ")[:20]\n",
    "for i, (question, similarity) in enumerate(sorted_questions):\n",
    "    print(f\"{similarity:.4f} {question}\")"
   ]
  },
  {
   "cell_type": "code",
   "execution_count": 13,
   "id": "4ebe9645-ff96-4d91-b672-62f7b07e1c93",
   "metadata": {
    "tags": []
   },
   "outputs": [
    {
     "name": "stdout",
     "output_type": "stream",
     "text": [
      "{\"id\":1,\"embedding\":[-0.0066839783,-0.0356967077,0.0189061519,0.0149366483,-0.0205059797,-0.0159948431,0.0200969595,0.0423078164,0.0014735546,0.0186544321,0.0136704836,0.0168111566,0.033799503,-0.0034503969,-0.0104913311,-0.0199503247,-0.0636559352,-0.0468531772,0.0523984879,-0.0064493623,-0.0887796432,-0.0275822319,-0.0117647722,-0.0009986137,0.0027872189,-0.0704310164,0.000181809,-0.0529087223,-0.0483736135,0.0387966558,-0.0078149214,-0.0045516184,-0.0194039103,0.0181365721,-0.022202231,-0.0149719398,-0.0471177697,0.0197852515,-0.0233722944,0.0383752249,-0.0098919161,0.0043594711,-0.0095052021,-0.0009564502,0.026363384,0.0249010473,-0.0325681604,0.0295027699,0.0251958333,-0.004872968,-0.0335314572,-0.0117109809,0.0259424336,0.0264375582,0.0624857396,0.0126298266,-0.0506161079,-0.0085757431,-0.0283466671,0.0124333901,0.020052202,-0.0073413313,-0.0109457122,-0.0463712327,-0.0051849969,0.0108801192,0.0108611826,-0.0406404957,0.0041380697,0.0005310983,0.0593835674,0.0263276212,-0.033448413,-0.0103992121,0.0404021032,0.0277242977,-0.0049063228,-0.0338594466,0.063684687,-0.0446879715,0.0043487796,-0.069741793,-0.0519804731,-0.0455861278,-0.0428038761,0.1171337739,-0.0129005536,0.0083594192,-0.0061173653,0.0273971073,-0.0357789509,0.0200975332,0.0178552493,0.0169671103,-0.0523486845,0.0191732366,0.0027768023,0.0163025651,0.0135391429,-0.0009794557,0.0009330528,-0.0545764156,0.0147266453,0.0240080506,0.0759245902,-0.0178369451,0.0356174521,-0.0350119881,-0.0505339354,-0.0452648923,-0.077314727,-0.0321747996,-0.0480752252,0.0391150005,-0.0169834886,-0.0461296402,0.0202108826,-0.0366676487,0.0090006087,0.0074221538,-0.0662578866,0.0084694764,-0.0195649061,0.0694084093,-0.045605287,-0.0413871296,0.0211771373,-0.008981755,-0.0159997921,-0.0006223691,0.0364222787,-0.0322332717,0.0689602271,0.0082015013,0.0268097892,-0.0087681059,-0.0013784742,0.0245691016,-0.0040120087,0.0024799118,-0.0891810432,0.0468698516,0.0163495075,0.0012501241,0.0169630628,-0.0274631307,0.0510123037,-0.0224301629,-0.025175361,0.0045769084,-0.0163047593,0.0124886502,-0.0228231885,0.0723216757,0.0468280502,0.0373196192,0.0592301227,0.0258749258,0.0218365341,-0.0637151748,0.0385545157,-0.0566976145,-0.0369813554,-0.0068944013,0.0685825497,0.0132068889,0.0326280445,-0.0335373469,-0.0417764634,0.0072846073,0.0605805069,-0.1270612925,0.0092228791,-0.0226050094,0.0633514673,0.0012488562,-0.0000481226,0.0655560866,0.0033596605,0.0108232228,-0.0616510697,-0.0516344756,-0.0100431079,-0.0222280174,-0.0730292648,-0.0218732245,-0.0321811289,0.0171835776,-0.0127851367,0.0322118662,0.0318966359,0.0303834844,0.0211902857,-0.0472488739,-0.0494524017,-0.0082835155,0.0418990031,-0.1207646355,-0.0381296799,0.0351368226,-0.0229161866,-0.0494033732,-0.0433308482,-0.0030493056,-0.020711679,-0.0083287088,-0.0535461679,0.0318198092,-0.0130343074,0.0317127146,0.0046210932,-0.0043669981,0.0494634248,-0.0151815424,-0.0520517193,-0.0077068675,0.0226315353,-0.0690850914,-0.0405753106,-0.020475287,0.0392158553,-0.0007461716,0.056046661,-0.0030533487,0.0371595658,-0.0078013288,0.0660810545,-0.0119323758,0.0181743857,-0.0019300694,-0.0481281281,-0.0171107966,0.0016060621,0.0109168282,0.0502805486,0.0252699312,-0.0160773695,0.0272456426,-0.0179080199,-0.0181235243,-0.0005344003,0.066816926,-0.02069146,-0.0209602006,-0.0168580562,0.0551951267,-0.0247950703,0.0764793679,0.0307966396,-0.0075916681,0.0569826514,-0.0135313664,-0.0123074204,0.0446296819,0.02985733,0.0183792096,-0.0086249597,0.0492742062,-0.0233319029,0.0151815834,-0.0150132868,-0.0157032963,-0.0055520046,0.2097663581,-0.03133858,-0.0737630799,-0.0724516511,-0.0525907688,0.024317665,-0.0320931152,-0.0250215773,0.0015752823,0.0168595817,0.0127304997,-0.013507071,0.0304410532,-0.0113358581,0.0433121882,-0.0049563092,0.0477757417,0.0139604984,-0.0153864278,-0.0116633745,0.0421700478,-0.0165839884,0.0549257398,-0.0067151492,0.009998423,-0.0200042631,-0.0108716162,0.0704690665,0.0389026962,-0.017652588,0.048134923,0.0196747147,0.0149225872,0.0589286238,0.0032491989,-0.0429049432,0.0655816346,-0.0565358363,-0.0185592212,-0.0069997027,0.004844456,-0.0229139477,-0.0175521914,-0.0461927056,-0.0312772244,0.0076395962,-0.0035973527,0.0106889382,0.0277215336,-0.0056316447,0.0619763173,-0.029893877,-0.0356758125,0.0010548569,-0.0127323233,-0.0622833297,0.0968392789,-0.0443271883,0.0286169685,0.0836744308,0.0062641329,0.0088866381,-0.0034132593,0.0018289819,-0.0113001484,0.023815738,-0.0349715352,0.0026466618,0.0261004381,-0.0488138385,0.0187044404,-0.0003930499,0.0056560161,0.0195467435,-0.0329888798,-0.0264148228,-0.043851275,-0.0055162665,0.0111815268,0.0013605396,-0.0050635557,-0.0245322585,0.0292754564,-0.0418884084,0.0036869433,-0.0168045014,-0.0358777009,-0.0301434081,0.0005541074,-0.0012381769,0.029854849,0.0377915874,0.0310480576,-0.0185644682,0.0502594262,-0.0034336688,0.011878565,-0.0638763011,0.0221619122,0.0115414411,-0.0135318795,0.0299822167,0.0138268238,-0.0742919669,-0.0301783308,0.0350034088,0.0273779575,-0.0064071552,0.0325701497,0.0502354316,0.0023025717,-0.096231252,0.0123949926,0.0224427916,0.0193534289,0.0582326576,-0.0057322029,-0.0064411093,0.0034503751,-0.0017334478,0.0088654393,0.0080176536,-0.0012955199,0.0408478491,0.046606198,0.0334655978,-0.0521316007,-0.0109107783,0.0027944676,0.0703903586,0.0236037336,-0.0118396962,0.0538778342,-0.0327337682,-0.0359950438,-0.0314946845,-0.0208698492,0.0563723147,-0.0097113121,-0.032973621,-0.0325085744,0.0154653667,0.0207493827,0.0223460086,0.0040986785,0.0031334998,-0.055960916,-0.0265456177,-0.013810209,-0.0018350154,0.0316908285,0.0475919396,-0.0419262797,-0.0533462167,-0.0028296201,0.0123264827,0.0094310362,0.0282920208,-0.0459436327,-0.0593235716,-0.0061005908,0.0053114453,0.0087566897,-0.064383924,0.0246267524,-0.0639109462,0.0156758595,-0.0000468963,0.0077319364,0.0103171431,-0.0193441734,0.0203988552,-0.0475839451,0.1211846769,0.0781514049,-0.0233110189,-0.0116796717,-0.0442839004,0.0070491387,-0.0239908695,0.0304836966,0.0192246344,-0.0150942057,0.0139304651,-0.0037279744,-0.0724376142,0.0078631118,-0.0578155741,0.0177623406,-0.0004245411,0.1086252332,-0.0412893631,0.0025681814,-0.0241852086,-0.0371695235,0.0042203763,0.0279391855,-0.044202324,-0.0128475716,-0.0278930645,0.040250361,0.0179458223,0.0196682885,0.0281001702,0.0394645669,-0.0135266241,0.0162748992,0.018405037,0.0272742938,-0.0292900391,-0.0410922021,0.0340729244,-0.0185425449,0.0862002447,0.0282317828,0.0031457986,-0.0269494243,-0.0713323578,-0.0556095839,-0.0499439314,-0.0523376428,0.0747111216,0.0388555042,0.0116655668,0.0079379687,0.0196175501,0.0242464375,0.0543320961,-0.0622393042,-0.0208698101,-0.0168576147,0.0241133161,-0.0300498623,0.009067052,0.0278108809,0.0180877149,-0.0060749697,0.029979296,-0.0150262062,0.0145461727,-0.0127592199,-0.0362327173,0.0093022743,0.0056919814,-0.0518214293,-0.0210901462,-0.0073303487,-0.022051353,0.0299901571,0.0075087282,-0.0210888535,-0.0261765476,-0.0603952445,0.0175598562,0.0672364384,0.0426336043,-0.0609635897,-0.0041609039,0.0033648999,0.0365470797,-0.0238456,0.0023955198,0.0615237653,-0.0015930814,-0.0000812845,-0.0379751027,-0.0423073098,0.0055988966,-0.0006440102,-0.0451243855,0.0004138517,0.0181402098,-0.0110098608,0.0314062536,-0.0087586613,-0.0092822248,0.1115038544,0.0201654229,-0.0459934026,0.0455336832,0.003077975,-0.0353749655,0.0315622799,0.0286975782,0.0508200713,0.0395180918,0.0510538742,0.0166727696,-0.0470017605,-0.0398626365,0.0823023096,-0.0321340263,-0.0278607123,0.0329387598,-0.0270678177,-0.0087147495,-0.021000281,0.0160552915,-0.0309063271,-0.044541467,-0.0608436167,0.0301277209,-0.0211207177,0.0057808617,0.0373829193,-0.023199793,0.041208826,-0.0176847186,0.0078514321,-0.0623338744,0.0656658411,-0.0096288146,-0.0050284062,-0.0149581255,0.0004689697,0.0287988726,0.0443174727,-0.053227026,0.0016027708,-0.0005622166,-0.0363920368,0.0177779868,-0.0197240692,-0.0216922313,-0.0321392231,-0.0130614517,-0.0225590859,-0.0466352515,-0.067720674,0.0021057846,0.0173303485,-0.0816160366,-0.0178606901,-0.0163770877,-0.0086363535,0.0187098533,0.0241457708,0.0295302868,-0.0663545653,0.0846258327,-0.0374500304,-0.009491317,0.0047160089,-0.0017484331,0.0026834528,-0.0205314625,0.0520964414,0.0165316761,0.0203309171,0.0313993245,0.0027275418,0.0146586234,-0.0406244211,-0.0080293836,0.0760133639,-0.0178690702,-0.0251187794,0.0366599075,0.0443806127,-0.0107475333,0.0010100341,0.069299601,-0.0201081932,-0.0021663683,0.0294951275,0.0047785398,-0.0204860307,-0.0283222571,-0.018949477,-0.0381044298,-0.0078149727,-0.0013338991,0.0000891359,-0.038777791,0.0201282743,0.0127602359,0.0342005156,-0.0007117726,-0.0230037943,0.0481159873,-0.0080852993,0.0283946134,-0.0276573841,-0.0030786507,0.0122462604,-0.0044094538,-0.0202801451,0.0039632898,-0.0263758507,-0.0418990962,-0.0217998363,-0.0036643094,-0.0021605145,-0.0065489071,0.0139659904,-0.0014664804,0.0179520585,0.0385703221,-0.034662433,0.0123433843,0.0404627174,-0.0763715878,0.0258681551,0.005353841,-0.0341297388,0.0288206469,0.0094752116,-0.0177393183,-0.0362977572,0.0354004949,-0.0270928815,0.0110744992,0.0220634285,0.0028356358,-0.0072674891,0.0569748245,0.0029987481,-0.0360796526,0.0333073735,0.0192227401,-0.0668116286,0.0533659458,-0.024887396,0.0070404033,-0.0461247526,-0.0416009687,0.0389987752,-0.009821523,0.0095909592,-0.0495873503,-0.0119050117,0.0065798499,-0.0205388181,-0.0760230422,0.0334078409,0.0417011417,-0.0455936342,0.0074101286,0.0308405142,0.03902141,0.029431304,0.0497006886,-0.01241259,-0.0411460549,-0.002676669,0.0018436377,-0.0297867581,0.017581962,-0.0147167835,0.0206111819,0.025037216,0.0165148396,0.0286213141,-0.0290837493,0.0110213114,0.018296387,0.0506558344,-0.035694465,0.0146075068,0.0057080565,-0.0149579179,-0.0354222059,-0.003220591,0.0062465938,0.0131371561,-0.039597854,0.0050065229,0.0280027762,-0.0238189306,0.0229374841,0.0029109509,-0.0047701928,-0.0032149204,0.0901007503,0.0194536429,0.0244046245,-0.0392044783,-0.0157779474,0.0560261942,-0.0247418433,-0.0274407472,0.0647997558,0.0476794317,-0.0274251439,-0.0528442301,0.0285716411,0.0031258529,-0.1061557904,0.0216469318,0.0132473465,-0.0070374063,-0.0126461461,0.0669162348,0.0269047283,0.0312200636,-0.0103959432,0.0544458628,-0.0149851274,0.0464150868,0.0249390937,-0.0351350754,0.0363883115,0.0121734543,0.016888041,0.0236160047]}\n",
      "{\"id\":2,\"embedding\":[-0.0084408503,-0.0406122394,0.0200727787,0.0152271437,-0.0192018561,-0.0134241413,0.0222796388,0.0420156382,0.0037512223,0.0159255899,0.0128471171,0.015427093,0.0315353833,-0.0028989555,-0.0096327737,-0.0207874812,-0.0603251718,-0.0485194921,0.0467263088,-0.0021271899,-0.0880521461,-0.0298672039,-0.0107056657,-0.0072457991,0.0027714763,-0.0670806244,-0.0005384816,-0.0553244501,-0.0486724935,0.0351822227,-0.0035094917,-0.0034636371,-0.0173296593,0.0215464029,-0.0233288202,-0.015205632,-0.04887316,0.01647822,-0.0241540968,0.0415168256,-0.0097119827,0.0058045611,-0.007469404,-0.0020871377,0.0250954237,0.029812796,-0.0344094932,0.0290544573,0.0323412195,-0.0049158786,-0.0328324363,-0.0026609569,0.0228207093,0.0263254233,0.0607378073,0.0137529159,-0.0539877489,-0.0125649916,-0.0247503389,0.0121202702,0.0181285907,-0.0071284445,-0.0127823735,-0.045769427,-0.0022251445,0.0100346869,0.0117840897,-0.0385152176,0.0054187449,0.0001664693,0.0558084808,0.024777621,-0.0333250873,-0.0082287928,0.0392743088,0.0262440592,-0.007337804,-0.0297776293,0.064801164,-0.0423181839,0.0009493901,-0.0684235841,-0.0546769537,-0.0441893339,-0.0430105142,0.1195969209,-0.0090118665,0.0016207953,-0.0054051848,0.0250850506,-0.0370169468,0.0231691953,0.0220442005,0.0168873817,-0.0538322665,0.0202890709,0.0016281577,0.0172679201,0.0119285146,0.0003800759,0.0007355252,-0.0488769077,0.0130986944,0.0269206166,0.0811474323,-0.0204593036,0.0396368392,-0.0355741046,-0.0505402908,-0.0465956889,-0.0778738856,-0.0299370699,-0.0472828522,0.0383254848,-0.0178694967,-0.046782136,0.0192829259,-0.0369199775,0.0096598268,0.0117856693,-0.0636551231,0.0114974575,-0.0216990747,0.0716897771,-0.0424728468,-0.0402790979,0.0183507744,-0.0111005669,-0.0091373436,0.0024316558,0.0385289416,-0.0321417898,0.0691429675,0.0085077807,0.0241743419,-0.0064047445,0.0019298856,0.0209224541,-0.0029647485,0.0012337216,-0.0839009508,0.0447598323,0.0188283417,0.0005347589,0.0194844343,-0.0267105494,0.0531929284,-0.0244355351,-0.0226613507,0.0069165342,-0.0173675921,0.0075935004,-0.0220744498,0.0720525905,0.0510609075,0.0355504118,0.0605580546,0.0278634839,0.0213049259,-0.0680538714,0.0369520821,-0.0593558326,-0.0408136845,-0.0063706371,0.0702876747,0.016023811,0.0362751074,-0.0378136821,-0.0399720334,0.0096113179,0.0575054362,-0.1222934723,0.0105398018,-0.0234053452,0.0662301332,0.0018505929,-0.000161984,0.0607482716,0.0016319003,0.0081037385,-0.0606825277,-0.0493572168,-0.0127494894,-0.0221443959,-0.0751183629,-0.0236256514,-0.0239036772,0.0170075595,-0.0107489405,0.0285141543,0.0336278826,0.0302208308,0.0205515902,-0.0510056019,-0.0482512303,-0.0040696193,0.0415697768,-0.1210820898,-0.0401082635,0.0369675606,-0.0185642038,-0.0506833084,-0.044787433,-0.0047801048,-0.0200798605,-0.0102301966,-0.0520715117,0.0322454013,-0.0113716917,0.0317952707,0.0072848964,-0.0038736952,0.0453101993,-0.0143560665,-0.0487678461,-0.0086181574,0.0252734479,-0.0710875988,-0.0408639573,-0.0179747902,0.0338099077,0.003711012,0.053917408,-0.0032683199,0.0353271924,-0.0081403553,0.0662091672,-0.0078752749,0.0175022669,-0.0024622323,-0.0488618389,-0.014772024,0.0022320838,0.011958397,0.0485923812,0.0255297255,-0.0161786918,0.0276279673,-0.0250665154,-0.0138548929,0.0018699052,0.0694125593,-0.0194374174,-0.019244777,-0.0130565101,0.0550269037,-0.029094696,0.0718355998,0.0295130108,-0.0078906696,0.0588187948,-0.010728077,-0.0106470985,0.0447350852,0.0314834267,0.0187682621,-0.0108474307,0.047701858,-0.0249458421,0.0131458882,-0.0131529365,-0.0141445259,-0.0090151159,0.2072796822,-0.0302380268,-0.0765919536,-0.0699607879,-0.0550313815,0.0231638141,-0.0326092392,-0.0260714535,0.0059272014,0.0139062963,0.0130210342,-0.0140135046,0.0297969151,-0.010577023,0.0405335166,-0.0064287069,0.0510782041,0.0146662807,-0.0166540761,-0.0122490712,0.0419049859,-0.0181971081,0.0509175025,-0.006884357,0.0072099045,-0.0188598167,-0.0152167063,0.0671040714,0.0385307409,-0.0147956852,0.0525156893,0.0187112056,0.0180527754,0.060355071,0.0046370346,-0.0461795665,0.0598437898,-0.0563357919,-0.0173818804,-0.0039537866,0.0081658661,-0.0205762796,-0.0187465623,-0.0466174856,-0.0346726961,0.0048201233,0.0004784648,0.0096201757,0.0305760875,-0.0066237827,0.0612082146,-0.0325442851,-0.0378029607,0.0000571973,-0.0138547877,-0.0621071495,0.0978827626,-0.0378489494,0.0323922709,0.0884164423,0.0054105055,0.0097363908,-0.0027891528,0.0045661209,-0.0093349554,0.0241958648,-0.0334034413,0.0033143091,0.0256286375,-0.0509899594,0.0217319541,-0.0017759595,0.0022806823,0.0219326001,-0.0277801175,-0.0289510209,-0.0464362092,-0.0033078538,0.0108552389,0.002353136,-0.0030987714,-0.0255253632,0.0267585814,-0.0412075669,0.0049010832,-0.0162079223,-0.0377497636,-0.0275106281,-0.0024394279,-0.0036663681,0.0263252482,0.0412298068,0.0229574535,-0.0153666642,0.0481867902,-0.0028742854,0.0050756559,-0.0661300197,0.0258042216,0.0124894148,-0.0144396573,0.0261331778,0.0168774128,-0.0716037974,-0.0296433885,0.0356353559,0.0265663136,-0.0081384461,0.0341425985,0.0514748208,0.0060506132,-0.0969747975,0.0158077553,0.0239836909,0.018341586,0.0537094846,-0.0070975786,-0.0044770492,0.0058553498,0.0023865576,0.0042215162,0.0066826586,-0.0042631552,0.0402845368,0.0488394387,0.0359336473,-0.0565307513,-0.0094159795,0.0002624594,0.0715023801,0.0230750721,-0.0045253509,0.0496479981,-0.0329978168,-0.0353181101,-0.0333584845,-0.0184994582,0.0570762977,-0.0064079538,-0.0342260599,-0.0329186097,0.0104849674,0.0225278344,0.0234465152,0.0026284785,0.0046002604,-0.0550723262,-0.0281786621,-0.0140111893,0.0023588988,0.0323864408,0.0492488146,-0.0416357741,-0.0510199852,-0.004143443,0.013721291,0.0078186952,0.0267785415,-0.0425351784,-0.0581146814,-0.0020143478,0.0118006803,0.0046237223,-0.0615253486,0.0259463694,-0.066400595,0.0107792774,-0.0009905697,0.006618253,0.0098190205,-0.0216170885,0.0246794,-0.04653842,0.125065729,0.0782499835,-0.0186479632,-0.0117356144,-0.0455798507,0.0073840939,-0.0265513752,0.0343840048,0.0202477966,-0.014712668,0.0095622409,-0.0040174392,-0.0749051571,0.0070936908,-0.0542294383,0.0174983144,0.0042968597,0.1143105477,-0.0382190049,0.003697552,-0.0251184478,-0.0372401923,0.0015420634,0.0263738763,-0.0461015143,-0.0096076047,-0.0300454888,0.0412844867,0.0153744444,0.0166798607,0.028966805,0.0444865562,-0.0122665092,0.0149933817,0.0138513101,0.0245884974,-0.0313001052,-0.0394004844,0.0381709039,-0.0203450583,0.0838194638,0.0248026289,0.0077594649,-0.0298282746,-0.0702215806,-0.0544995144,-0.0466983318,-0.0516654216,0.0759218186,0.0356644578,0.0106083192,0.0078080315,0.0178724956,0.0250503793,0.0556117408,-0.0614999793,-0.0180837773,-0.0188650321,0.0198647473,-0.0277134441,0.0086115217,0.0246833209,0.0216769539,-0.0072712973,0.0273438673,-0.0179974791,0.0177392568,-0.0120037189,-0.0362883806,0.0090299873,0.0072301049,-0.0447225869,-0.0228380002,-0.0059264791,-0.0205175113,0.027413046,0.0083998637,-0.0187145956,-0.023929907,-0.0625154153,0.0136567336,0.0680545047,0.0418429226,-0.063461788,-0.0053583216,0.0022979274,0.0385381095,-0.0260990337,0.0044936505,0.0590238385,-0.0025375998,0.0041508307,-0.0363161601,-0.0414286703,0.0079719312,0.0030132649,-0.0467124954,-0.0037147654,0.0190941263,-0.0123058558,0.02833643,-0.0094257444,-0.0082573835,0.1106469706,0.0196948051,-0.0438224263,0.0458604656,0.0090704681,-0.0331944413,0.0355903246,0.0289703086,0.045944646,0.0394376591,0.0504081212,0.0142427236,-0.0448891893,-0.0395890623,0.0739608184,-0.0346147902,-0.0283051748,0.0345081538,-0.0284093209,-0.0104069198,-0.0219935719,0.0175275095,-0.0311271213,-0.0429223515,-0.0609565042,0.0313751027,-0.0215675626,0.0032566101,0.0336558484,-0.0213798359,0.0409523845,-0.0138318343,0.0058416515,-0.0637644827,0.0661985278,-0.0107215764,-0.0067076385,-0.0163896028,0.0019458807,0.0316744037,0.0452520102,-0.0534162223,0.0044174148,-0.0029892537,-0.0353751369,0.0210222192,-0.0224975795,-0.0254240558,-0.0313244201,-0.009549289,-0.0237844884,-0.0466671363,-0.0691618025,0.0068374607,0.0157873109,-0.0789260119,-0.0198570341,-0.0190753713,-0.00728973,0.0201150589,0.0229288619,0.0307068694,-0.068373099,0.0822319761,-0.0388047732,-0.0096762003,0.0019904114,0.0029629532,0.0059614996,-0.0218882989,0.0480879843,0.0138674434,0.0259062164,0.0308187008,0.0016053275,0.0135106938,-0.04334208,-0.0054294607,0.0812905207,-0.0187659189,-0.0213703401,0.0369610749,0.0460139066,-0.0085376995,0.0046435446,0.0677650496,-0.0183874667,0.0015909206,0.0308662336,0.0071954452,-0.0255388971,-0.0295651462,-0.017653482,-0.0352592431,-0.0075440197,0.0017051543,-0.001460347,-0.0401132181,0.0269285869,0.0116757723,0.0320400298,0.0001568547,-0.0203619022,0.0500296801,-0.0081814295,0.027457945,-0.0302507356,-0.0004999904,0.0151785752,-0.0015967587,-0.0223614629,0.0077619795,-0.0225975811,-0.0401924215,-0.015519266,-0.007251278,-0.0022362564,-0.0077535734,0.0137364371,0.0008251363,0.0221295282,0.0373815447,-0.0339949913,0.0108915996,0.0376398414,-0.077032648,0.0253249481,0.0080847871,-0.0336828679,0.0308208726,0.0055230982,-0.018001996,-0.0356374234,0.0330422595,-0.0300002154,0.0126849795,0.0239659622,0.0045761988,-0.0069432375,0.0584594198,0.0025999064,-0.0382391736,0.0324968062,0.0188008472,-0.0608974174,0.0510763079,-0.0242425054,0.0079255309,-0.0454390943,-0.0428082682,0.0426149182,-0.0143018467,0.0050799656,-0.0517940186,-0.0118674003,0.0083495909,-0.0160946492,-0.0792714432,0.0297138505,0.044312723,-0.044487834,0.009057275,0.0338182151,0.0331797451,0.0272394419,0.0551107302,-0.0107329655,-0.0456566848,-0.0030130013,0.0034676334,-0.0339183845,0.0191588271,-0.011467997,0.0198966227,0.0264773499,0.0154316174,0.0280753784,-0.0322934166,0.0102401832,0.017355809,0.051038526,-0.0371671654,0.0144627076,0.0086488137,-0.0194453914,-0.0322106555,-0.0069122207,0.0048043383,0.0206744075,-0.0362126119,0.0009605243,0.0260483827,-0.0211707111,0.0194218308,0.0064120954,-0.0020778915,-0.0051083751,0.0927189514,0.0202358142,0.0267569628,-0.0407388844,-0.0142629463,0.0567559712,-0.0289339125,-0.0250368454,0.0670363307,0.052227661,-0.0294754412,-0.0548900925,0.0343045928,0.0000035012,-0.1077272147,0.0242019314,0.0106905755,-0.0060488749,-0.0146037405,0.0663126409,0.0303104594,0.0309236236,-0.009721362,0.0552785769,-0.0131598972,0.0446691625,0.0243633576,-0.0298650172,0.03780476,0.0103548616,0.018662801,0.0208495501]}\n",
      "{\"id\":3,\"embedding\":[-0.0097326627,-0.0357203148,0.0161285438,0.0168810654,-0.0203422289,-0.0117268106,0.0225418527,0.039712768,0.0079434477,0.0170208439,0.0137499608,0.0188376177,0.0341924392,-0.0034545967,-0.0084288772,-0.0201041624,-0.0634453893,-0.0499576144,0.0482863486,-0.0017413471,-0.0867754817,-0.0316347331,-0.00980723,-0.0002946462,0.0046608737,-0.0725413188,-0.0045642378,-0.0524275228,-0.0499962047,0.0361093692,-0.0070147533,-0.0072569931,-0.019958768,0.0225184262,-0.0284551512,-0.0132311601,-0.0513269082,0.0168534033,-0.0256790519,0.0377706625,-0.0110404072,0.0039394023,-0.0082397517,-0.003306316,0.0299349986,0.0287260246,-0.0368343107,0.025704056,0.0277516656,-0.0047683143,-0.029437162,-0.0057551991,0.0214050859,0.0263983533,0.060272105,0.0100999903,-0.0510795005,-0.0084584411,-0.0277115889,0.0096848598,0.0206187554,-0.0033785321,-0.0144354347,-0.0436839648,-0.0101429122,0.0141689098,0.0086471038,-0.0395649076,0.0080381194,0.0030372932,0.0567425638,0.0274390187,-0.032934159,-0.006465564,0.0407067128,0.0300647002,-0.0080644423,-0.0351151191,0.0627656505,-0.0425837971,0.0085626291,-0.0704480559,-0.0535084419,-0.0396712832,-0.0491119735,0.1181370541,-0.0178541504,0.0038700926,-0.0066467333,0.0297279675,-0.0310729016,0.0178513676,0.018127773,0.0146025503,-0.0532097742,0.022205038,0.0030546987,0.0168660097,0.0120274257,-0.001066593,0.0013129486,-0.0536139868,0.0144299176,0.0290882885,0.0763898492,-0.0166715682,0.0404844321,-0.0346936919,-0.0527175888,-0.0476362407,-0.0754466876,-0.0313629657,-0.0455175899,0.0355543345,-0.0171880126,-0.043226786,0.0212826338,-0.0331877843,0.0103090517,0.0087732673,-0.0633228868,0.0073370901,-0.0225567762,0.0701787546,-0.0436941236,-0.0435299687,0.0194140617,-0.012459537,-0.0159232244,-0.0021258942,0.0348801836,-0.0340635516,0.0721429735,0.0071209129,0.0264984388,-0.0079421569,-0.0008409547,0.0287448373,-0.0055245715,0.0027761334,-0.0874121934,0.0485948808,0.0160515644,0.0033533729,0.0158293266,-0.0306560062,0.0545695983,-0.0253219251,-0.0277553201,-0.0024184552,-0.0165692791,0.0111582335,-0.023541918,0.0710907057,0.0460296161,0.0370391458,0.0581798144,0.0256430134,0.0216933005,-0.0622149296,0.0392282307,-0.0609837845,-0.0394238532,-0.0052717351,0.0674895048,0.01128993,0.0295546968,-0.0337754861,-0.0446508192,0.0071909991,0.0591551922,-0.126076296,0.0102885384,-0.0263286307,0.0650191009,-0.0003591442,-0.0023595567,0.0670119971,-0.0015869411,0.0098396549,-0.0627668053,-0.050118506,-0.0099823065,-0.0215649866,-0.0763445497,-0.0226561166,-0.0304037388,0.0191102978,-0.0128335087,0.0338685624,0.0300756749,0.0292557795,0.0230282601,-0.0453888401,-0.0512827821,-0.0064408644,0.0404065549,-0.1165624261,-0.0408040769,0.035969764,-0.0165458005,-0.0500533581,-0.0462874323,-0.0035307833,-0.0231156852,-0.0106631732,-0.0532285385,0.0352749899,-0.0150971683,0.0341755413,0.0051344875,-0.0049553425,0.0476817228,-0.0165540706,-0.0539085753,-0.0076826294,0.0264306515,-0.0695547536,-0.0379958563,-0.0176714733,0.0361729711,-0.0002847186,0.0535930246,-0.0034699782,0.0345345102,-0.0041713556,0.0683090389,-0.009340561,0.0197558273,-0.0056994893,-0.0463600233,-0.0198102351,-0.0003140637,0.0131837204,0.0487650372,0.0235404037,-0.0120327091,0.0273337271,-0.0232186411,-0.0250898544,-0.0029281119,0.0640950948,-0.0211824737,-0.0203956254,-0.0208836701,0.0580056496,-0.0248862188,0.0721063837,0.0286267623,-0.0093713226,0.0557424463,-0.0126600899,-0.0083947461,0.0462843925,0.029960664,0.0159111768,-0.0106964484,0.0498300344,-0.0256925412,0.0104244137,-0.0172274485,-0.0163391028,-0.0061337166,0.2061845064,-0.0296344422,-0.0764990523,-0.0721404105,-0.0550000519,0.0204390362,-0.0355119295,-0.0243116058,0.002713376,0.0145223923,0.0143923406,-0.0139924465,0.0318082049,-0.0142071499,0.0451319851,-0.0045495643,0.0464499481,0.0160532519,-0.0144056929,-0.0123877963,0.0374555476,-0.017361328,0.0531855151,-0.0041910661,0.0123478072,-0.0197094493,-0.006250591,0.064156726,0.0348683223,-0.0157034453,0.0476541072,0.0213820785,0.0173167232,0.0597727075,0.0033923178,-0.0460315347,0.0620164238,-0.0563795865,-0.015129324,-0.0003712661,0.0084598092,-0.0208353847,-0.0178057551,-0.0460429043,-0.0299095567,0.0064434661,0.0004095753,0.0111477487,0.0306790099,-0.0077284216,0.066187039,-0.0303383116,-0.0368238725,0.0056294291,-0.0097552836,-0.0591437034,0.0945608094,-0.0402125418,0.0319525078,0.0822845027,0.006966894,0.0109821688,-0.0024348283,0.0029930398,-0.0143378852,0.029584324,-0.0339885801,0.0051225899,0.0274057072,-0.0458654836,0.0190074239,0.0017653032,0.0031849805,0.0218604989,-0.030650245,-0.0283835158,-0.0421168357,-0.0079988232,0.01135517,0.0018735108,-0.0007693857,-0.0250158515,0.026389841,-0.04451482,0.0037167314,-0.0142732542,-0.0369211957,-0.0292602498,-0.001331259,-0.003075076,0.0306056701,0.0412033647,0.0283301305,-0.0147242285,0.0461339541,-0.0054725795,0.0122518493,-0.066102989,0.0255278088,0.0090206554,-0.0136913732,0.0282891653,0.0156765841,-0.0679409206,-0.0279595815,0.037031766,0.0282713417,-0.0072500114,0.0374285802,0.0525759943,0.0049349889,-0.0980429426,0.0152589222,0.0213444997,0.0182321891,0.0567344055,-0.0050864955,-0.006084404,0.0045769275,0.0004646876,0.0039820792,0.0085400315,0.0002394316,0.042689804,0.0459234156,0.0342754498,-0.0498520397,-0.007222706,0.0012443737,0.0692033172,0.0243044235,-0.0092828684,0.0496062189,-0.0339267962,-0.0362063535,-0.0319247022,-0.0199193303,0.0564119034,-0.0081693884,-0.0298163723,-0.0305060893,0.0142655084,0.018058382,0.0247456748,0.0040350473,0.0026141885,-0.0550950579,-0.0235374868,-0.0166257694,-0.0001097719,0.0357950367,0.0478374995,-0.046121154,-0.0513319522,0.0015612957,0.0137597769,0.0081040477,0.0276402291,-0.0453744233,-0.0577135608,-0.0073765125,0.0060153473,0.0077894679,-0.0636566877,0.021038888,-0.0650522485,0.0134950746,-0.0010389027,0.0107397065,0.0114918584,-0.0211227685,0.0245066062,-0.0463057868,0.121145308,0.0800232962,-0.0248081982,-0.0093861492,-0.0466364622,0.0075547709,-0.0258454736,0.0328753367,0.0174570475,-0.0150658824,0.0112876846,-0.0043789726,-0.0734493732,0.0115648722,-0.0548882931,0.0167602953,0.0035165371,0.1108045429,-0.042577453,0.0015490969,-0.027709743,-0.0398804843,0.0002932324,0.0280377232,-0.0499911867,-0.0090847341,-0.0266521685,0.045242317,0.0197407324,0.0176682118,0.0278430916,0.0411176644,-0.0143845957,0.0139588201,0.0146860434,0.0294883344,-0.0296859778,-0.0408787914,0.0397216566,-0.0170249064,0.0883754417,0.0292423218,0.0058864956,-0.0264205411,-0.0690101013,-0.0533962958,-0.0455842577,-0.0500640832,0.0726414695,0.0386316851,0.0105070118,0.0084702903,0.0232255068,0.0187776983,0.0531462319,-0.0642325133,-0.0188677404,-0.0170926861,0.0280053429,-0.0300287288,0.0080333147,0.0277030803,0.0213364158,-0.0073296675,0.0335482359,-0.0115897479,0.0191092249,-0.0112236887,-0.0367867164,0.011963727,0.0075648092,-0.0494461991,-0.0190744363,-0.0077424254,-0.0192529652,0.0276321936,0.0073544863,-0.0179851819,-0.0266203582,-0.0609961189,0.0178214349,0.0717704222,0.0436757319,-0.0612147152,-0.0033560409,0.0014069841,0.0369928218,-0.0283136349,0.0009267595,0.0609504133,-0.0067263469,-0.000579648,-0.0352081545,-0.0471344106,0.0063318769,0.0029013539,-0.0482867584,-0.0028348907,0.0210685357,-0.0078250812,0.0276802871,-0.0102307443,-0.0101534501,0.1089257747,0.0202837717,-0.0439029261,0.0465324409,0.0037368988,-0.0320534483,0.0338150933,0.028783476,0.053865172,0.0413165055,0.0499116257,0.0154236285,-0.0468749069,-0.0411223359,0.0784062445,-0.0323139019,-0.0269348659,0.0320816077,-0.0300336368,-0.0090488922,-0.0218598079,0.0127191273,-0.024927536,-0.0436283238,-0.0620659366,0.0313823074,-0.0264346413,0.0059463051,0.0406172834,-0.0248169266,0.0432412438,-0.0190438237,0.0023606904,-0.0631418079,0.0699806809,-0.0085476181,-0.003557523,-0.0163048636,0.0006323029,0.031657014,0.0436482094,-0.0521979332,0.0058246013,0.0006912077,-0.0379433967,0.0175705105,-0.0169387329,-0.0248290543,-0.0335858651,-0.0131332669,-0.0201015193,-0.0453031063,-0.0724791363,0.0080157733,0.0158341862,-0.0783364847,-0.0184231177,-0.0171128958,-0.0106819794,0.0156700388,0.0226140562,0.021998832,-0.0637650043,0.0851103812,-0.0385185406,-0.0090516275,0.0027820419,0.0008421979,-0.0009889903,-0.0241545085,0.0537333675,0.0142901232,0.0225428361,0.0267379601,0.0002662237,0.0151292924,-0.0435111411,-0.0080040647,0.0781396031,-0.0144216791,-0.0262871794,0.0375454538,0.0439674333,-0.0105474917,-0.002644381,0.0732907727,-0.025393147,-0.0061799977,0.0278111603,0.0066688769,-0.0180378314,-0.0246291813,-0.0176452138,-0.0355877168,-0.0057628863,0.0000126102,-0.0001449047,-0.0361990258,0.0201467685,0.0181678254,0.0344620422,-0.0039561377,-0.0202031489,0.0465750545,-0.0087157851,0.0251105968,-0.0276130252,-0.0044959895,0.0138363251,-0.0027198847,-0.019315986,0.0022613429,-0.0255443882,-0.0445620306,-0.024680702,-0.0009236265,-0.0024539584,-0.00662645,0.0122843813,-0.0003667994,0.0192328338,0.0386843644,-0.035730876,0.0153393066,0.0393903516,-0.0732055083,0.0255278423,0.009235994,-0.0356645025,0.0317018144,0.0073746094,-0.0231004152,-0.0351288728,0.0353103392,-0.0275800917,0.0146178445,0.0240915474,0.0057349796,-0.0100150974,0.0529171601,0.003513346,-0.03872272,0.0359478891,0.0169502888,-0.0632205456,0.0515158363,-0.0261816252,0.0062019601,-0.0425026082,-0.041231852,0.0402651206,-0.0149550475,0.0072721792,-0.0481824912,-0.0112204123,0.0034426602,-0.0183228608,-0.0748590231,0.0303889122,0.0443829559,-0.0453989618,0.0078840777,0.0314665139,0.0397488363,0.0313537717,0.0517738909,-0.0070287441,-0.0413349122,-0.0069242488,0.0052565127,-0.0318352096,0.0171426497,-0.0096225552,0.0203040428,0.0234658159,0.0176878255,0.0295927338,-0.0259011071,0.0065670372,0.0144785484,0.0478488207,-0.0348839723,0.0137858242,0.006525714,-0.0178092532,-0.0354452133,-0.0054584667,0.0070204553,0.0221797954,-0.0356326923,0.0022196143,0.0256031491,-0.0188960936,0.0226547159,0.0004780671,-0.00875099,-0.0018532838,0.0944558159,0.0193254016,0.0231153201,-0.042839583,-0.0165424477,0.0586050935,-0.0291688014,-0.0251818709,0.0652189627,0.0485734195,-0.0301617719,-0.052960638,0.0305178165,0.0022423288,-0.1044385284,0.023183668,0.013581913,-0.0091777397,-0.0141063211,0.0681494176,0.0304525848,0.0324099809,-0.0118751703,0.0492162555,-0.0181433503,0.0412729383,0.0212023128,-0.033660695,0.0362737216,0.014036783,0.0160765126,0.0258490946]}\n"
     ]
    }
   ],
   "source": [
    "# save id and embedding as a json file\n",
    "jsonl_string = df[[\"id\", \"embedding\"]].to_json(orient=\"records\", lines=True)\n",
    "with open(\"questions.json\", \"w\") as f:\n",
    "    f.write(jsonl_string)\n",
    "\n",
    "# show the first few lines of the json file\n",
    "! head -n 3 questions.json"
   ]
  },
  {
   "cell_type": "code",
   "execution_count": 14,
   "id": "1f6647d4-4c68-455a-b2a7-d43b0b24f2c7",
   "metadata": {
    "tags": []
   },
   "outputs": [
    {
     "name": "stdout",
     "output_type": "stream",
     "text": [
      "Creating gs://qdmeds-orva-05030849/...\n",
      "Copying file://questions.json [Content-Type=application/json]...\n",
      "/ [1 files][  7.0 MiB/  7.0 MiB]                                                \n",
      "Operation completed over 1 objects/7.0 MiB.                                      \n"
     ]
    }
   ],
   "source": [
    "BUCKET_URI = f\"gs://{PROJECT_ID}-orva-{UID}\"\n",
    "! gsutil mb -l $LOCATION -p {PROJECT_ID} {BUCKET_URI}\n",
    "! gsutil cp questions.json {BUCKET_URI}"
   ]
  },
  {
   "cell_type": "code",
   "execution_count": 15,
   "id": "8d3e95c2-c82a-430a-a9fe-42927c7e2f88",
   "metadata": {
    "tags": []
   },
   "outputs": [],
   "source": [
    "# init the aiplatform package\n",
    "from google.cloud import aiplatform\n",
    "\n",
    "aiplatform.init(project=PROJECT_ID, location=LOCATION)"
   ]
  },
  {
   "cell_type": "code",
   "execution_count": 16,
   "id": "5f7c50c8-456b-45cf-88dc-922c0d5fc030",
   "metadata": {
    "tags": []
   },
   "outputs": [
    {
     "name": "stdout",
     "output_type": "stream",
     "text": [
      "Creating MatchingEngineIndex\n",
      "Create MatchingEngineIndex backing LRO: projects/900493032577/locations/us-central1/indexes/2613833808339795968/operations/4457852831189172224\n",
      "MatchingEngineIndex created. Resource name: projects/900493032577/locations/us-central1/indexes/2613833808339795968\n",
      "To use this MatchingEngineIndex in another session:\n",
      "index = aiplatform.MatchingEngineIndex('projects/900493032577/locations/us-central1/indexes/2613833808339795968')\n"
     ]
    }
   ],
   "source": [
    "# create index\n",
    "my_index = aiplatform.MatchingEngineIndex.create_tree_ah_index(\n",
    "    display_name=f\"orva-poc-index-{UID}\",\n",
    "    contents_delta_uri=BUCKET_URI,\n",
    "    dimensions=768,\n",
    "    approximate_neighbors_count=20,\n",
    "    distance_measure_type=\"DOT_PRODUCT_DISTANCE\",\n",
    ")"
   ]
  },
  {
   "cell_type": "code",
   "execution_count": 17,
   "id": "f19b39fd-06a8-4332-a385-3fcbe12a97b8",
   "metadata": {
    "tags": []
   },
   "outputs": [
    {
     "name": "stdout",
     "output_type": "stream",
     "text": [
      "Creating MatchingEngineIndexEndpoint\n",
      "Create MatchingEngineIndexEndpoint backing LRO: projects/900493032577/locations/us-central1/indexEndpoints/3989120544548061184/operations/5421904626423169024\n",
      "MatchingEngineIndexEndpoint created. Resource name: projects/900493032577/locations/us-central1/indexEndpoints/3989120544548061184\n",
      "To use this MatchingEngineIndexEndpoint in another session:\n",
      "index_endpoint = aiplatform.MatchingEngineIndexEndpoint('projects/900493032577/locations/us-central1/indexEndpoints/3989120544548061184')\n"
     ]
    }
   ],
   "source": [
    "# create IndexEndpoint\n",
    "my_index_endpoint = aiplatform.MatchingEngineIndexEndpoint.create(\n",
    "    display_name=f\"orva-poc-index-endpoint-{UID}\",\n",
    "    public_endpoint_enabled=True,\n",
    ")"
   ]
  },
  {
   "cell_type": "code",
   "execution_count": 20,
   "id": "d7a1f5dc-5b33-4523-a6c5-13ac92f8eedd",
   "metadata": {
    "tags": []
   },
   "outputs": [],
   "source": [
    "DEPLOYED_INDEX_ID = f\"orva_poc_index_deployed_{UID}\""
   ]
  },
  {
   "cell_type": "code",
   "execution_count": 21,
   "id": "26049f5b-e4d5-4767-b967-7813aee126b7",
   "metadata": {
    "tags": []
   },
   "outputs": [
    {
     "name": "stdout",
     "output_type": "stream",
     "text": [
      "Deploying index MatchingEngineIndexEndpoint index_endpoint: projects/900493032577/locations/us-central1/indexEndpoints/3989120544548061184\n",
      "Deploy index MatchingEngineIndexEndpoint index_endpoint backing LRO: projects/900493032577/locations/us-central1/indexEndpoints/3989120544548061184/operations/9069820324593270784\n",
      "MatchingEngineIndexEndpoint index_endpoint Deployed index. Resource name: projects/900493032577/locations/us-central1/indexEndpoints/3989120544548061184\n"
     ]
    },
    {
     "data": {
      "text/plain": [
       "<google.cloud.aiplatform.matching_engine.matching_engine_index_endpoint.MatchingEngineIndexEndpoint object at 0x7f0d34246ad0> \n",
       "resource name: projects/900493032577/locations/us-central1/indexEndpoints/3989120544548061184"
      ]
     },
     "execution_count": 21,
     "metadata": {},
     "output_type": "execute_result"
    }
   ],
   "source": [
    "# deploy the Index to the Index Endpoint\n",
    "my_index_endpoint.deploy_index(index=my_index, deployed_index_id=DEPLOYED_INDEX_ID)"
   ]
  },
  {
   "cell_type": "code",
   "execution_count": 22,
   "id": "849f6e21-9d2a-4a32-9694-a57ea95097f7",
   "metadata": {
    "tags": []
   },
   "outputs": [
    {
     "name": "stderr",
     "output_type": "stream",
     "text": [
      "100%|██████████| 1/1 [00:01<00:00,  1.11s/it]\n"
     ]
    }
   ],
   "source": [
    "test_embeddings = get_embeddings_wrapper([\"i want to bike?\"])"
   ]
  },
  {
   "cell_type": "code",
   "execution_count": 23,
   "id": "e445ee5b-2da9-4b2e-8d19-2f804d7adbb2",
   "metadata": {
    "tags": []
   },
   "outputs": [
    {
     "name": "stdout",
     "output_type": "stream",
     "text": [
      "0.6846 can I bike Stationary cycling could be introduced as early as 2 to 3 months post-surgery, offering a safe way to build strength without putting too much strain on your knee. Transitioning to outdoor biking on flat surfaces might be possible after about 6 months, but steep trails and long distances should be avoided initially. \n",
      "\n",
      "Ensuring you've received approval from your surgeon or care team before starting to bike is crucial, as they can provide personalized advice based on your recovery progress.\n",
      "0.6825 when can I go biking Stationary cycling could be introduced as early as 2 to 3 months post-surgery, offering a safe way to build strength without putting too much strain on your knee. Transitioning to outdoor biking on flat surfaces might be possible after about 6 months, but steep trails and long distances should be avoided initially. \n",
      "\n",
      "Ensuring you've received approval from your surgeon or care team before starting to bike is crucial, as they can provide personalized advice based on your recovery progress.\n",
      "0.6808 when can I bike Stationary cycling could be introduced as early as 2 to 3 months post-surgery, offering a safe way to build strength without putting too much strain on your knee. Transitioning to outdoor biking on flat surfaces might be possible after about 6 months, but steep trails and long distances should be avoided initially. \n",
      "\n",
      "Ensuring you've received approval from your surgeon or care team before starting to bike is crucial, as they can provide personalized advice based on your recovery progress.\n",
      "0.6789 what about biking Stationary cycling could be introduced as early as 2 to 3 months post-surgery, offering a safe way to build strength without putting too much strain on your knee. Transitioning to outdoor biking on flat surfaces might be possible after about 6 months, but steep trails and long distances should be avoided initially. \n",
      "\n",
      "Ensuring you've received approval from your surgeon or care team before starting to bike is crucial, as they can provide personalized advice based on your recovery progress.\n",
      "0.6286 what about skiiing? It is typically advisable to avoid skiing for at least 9 to 12 months following a total knee replacement, to allow the prosthetic joint to fully integrate and the surrounding muscles to strengthen adequately. Adhering to your tailored rehabilitation program, emphasizing strength, flexibility, and balance, is crucial during this period.\n",
      "\n",
      "When contemplating a return to skiing, consider starting on gentle slopes with modern, well-adjusted equipment and possibly a custom-fitted knee brace for extra support. A cautious and gradual approach to resuming skiing can help protect the new joint and support a successful return to the activity, while minimizing the risk of injury.\n",
      "\n",
      "It's important to consult with your healthcare provider throughout your recovery to assess your readiness for skiing, as they can offer personalized advice based on your progress. You should not ski before being cleared by your care team.\n",
      "0.6145 What should I do if my knee feels stiff after being outside in the cold? It's natural to notice changes in your joint comfort as the seasons shift. Whether it's the crisp chill of winter or the humid embrace of summer, fluctuating weather can sometimes bring unwanted sensations to your knee replacement. While this is quite common, it doesn't have to hold you back from enjoying all that life offers. Here are some strategies to keep your joint happy regardless of the weather forecast:\n",
      "\n",
      "1. **Warm up your joint:** Before venturing out into the elements, take 10-15 minutes to gently prepare your knee. Light stretches, indoor walking, or a few minutes on a stationary bike can increase blood flow and loosen things up, making your joint feel more mobile and ready for action.\n",
      "\n",
      "2. **Embrace the power of warmth:** Whether it's a cozy brace, a soothing warm compress, or a gentle heating pad session, providing warmth to your joint can work wonders. Think of it as giving your knee a warm hug, promoting relaxation and reducing stiffness.\n",
      "\n",
      "3. **Stay limber throughout the day:** Don't let changing weather confine you to the couch! Incorporate gentle range-of-motion exercises and stretches into your daily routine, even if it's just a few minutes here and there. This keeps your joint lubricated and flexible, helping it adapt to the changing seasons with ease.\n",
      "\n",
      "4. **Listen to your body:** Your body is your ultimate weatherman. Pay attention to your pain levels and adjust your activities accordingly. If something hurts, listen! Taking breaks and respecting your limitations are crucial for maintaining long-term joint health and comfort.\n",
      "\n",
      "5. **Partner with your healthcare team:** Don't hesitate to consult your doctor or therapist if your joint discomfort becomes severe or persistent. They can provide personalized recommendations and support to ensure you navigate the seasons with confidence and comfort.\n",
      "\n",
      "Remember, proactive measures and a little TLC can go a long way in managing your joint comfort despite the weather's whims. Embrace the changing seasons, adjust your routine as needed, and enjoy the freedom of movement your knee replacement offers!\n",
      "0.6140 When will I be able to garden? Fully resuming gardening activities, including kneeling and squatting, can vary from patient to patient. Many people are able to start light gardening activities such as standing tasks or using raised beds within a few months. Kneeling and squatting may take longer, and some individuals may find these positions uncomfortable even after a year. Using knee pads, a gardening stool, or adapting your gardening methods can help. Listen to your body and avoid positions that cause pain or discomfort. If kneeling is important to you, discuss this with your healthcare provider for specific advice.\n",
      "0.6082 What can help me get back to gardening without pain? Difficulty kneeling is a common concern after knee replacement surgery. To make activities like gardening more manageable, consider using a gardening pad or kneeler to provide cushioning for your knee. Additionally, raised garden beds or container gardening can minimize the need to kneel. If kneeling is necessary, try to limit the duration and be cautious when getting up and down. If you find kneeling too uncomfortable, it may be best to avoid it and seek alternative ways to perform these activities.\n",
      "0.6071 When can I garden? Fully resuming gardening activities, including kneeling and squatting, can vary from patient to patient. Many people are able to start light gardening activities such as standing tasks or using raised beds within a few months. Kneeling and squatting may take longer, and some individuals may find these positions uncomfortable even after a year. Using knee pads, a gardening stool, or adapting your gardening methods can help. Listen to your body and avoid positions that cause pain or discomfort. If kneeling is important to you, discuss this with your healthcare provider for specific advice.\n",
      "0.6068 what about hiking Light hiking on flat, even terrain may become a feasible activity around 6 to 12 months following surgery. Initially, it's best to avoid steep inclines or trails with uneven surfaces. Building up leg muscle strength and overall stamina before attempting more challenging hikes is important. Utilizing hiking poles or having a companion for additional support can also be beneficial.\n",
      "\n",
      " Before embarking on hiking adventures, it's imperative to consult with your surgeon or care team to ensure your knee is ready for such an activity.\n",
      "0.6052 When will I be able to garden again? Fully resuming gardening activities, including kneeling and squatting, can vary from patient to patient. Many people are able to start light gardening activities such as standing tasks or using raised beds within a few months. Kneeling and squatting may take longer, and some individuals may find these positions uncomfortable even after a year. Using knee pads, a gardening stool, or adapting your gardening methods can help. Listen to your body and avoid positions that cause pain or discomfort. If kneeling is important to you, discuss this with your healthcare provider for specific advice.\n",
      "0.6032 when can I downhill ski It is typically advisable to avoid skiing for at least 9 to 12 months following a total knee replacement, to allow the prosthetic joint to fully integrate and the surrounding muscles to strengthen adequately. Adhering to your tailored rehabilitation program, emphasizing strength, flexibility, and balance, is crucial during this period.\n",
      "\n",
      "When contemplating a return to skiing, consider starting on gentle slopes with modern, well-adjusted equipment and possibly a custom-fitted knee brace for extra support. A cautious and gradual approach to resuming skiing can help protect the new joint and support a successful return to the activity, while minimizing the risk of injury.\n",
      "\n",
      "It's important to consult with your healthcare provider throughout your recovery to assess your readiness for skiing, as they can offer personalized advice based on your progress. You should not ski before being cleared by your care team.\n",
      "0.6027 can I ski? It is typically advisable to avoid skiing for at least 9 to 12 months following a total knee replacement, to allow the prosthetic joint to fully integrate and the surrounding muscles to strengthen adequately. Adhering to your tailored rehabilitation program, emphasizing strength, flexibility, and balance, is crucial during this period.\n",
      "\n",
      "When contemplating a return to skiing, consider starting on gentle slopes with modern, well-adjusted equipment and possibly a custom-fitted knee brace for extra support. A cautious and gradual approach to resuming skiing can help protect the new joint and support a successful return to the activity, while minimizing the risk of injury.\n",
      "\n",
      "It's important to consult with your healthcare provider throughout your recovery to assess your readiness for skiing, as they can offer personalized advice based on your progress. You should not ski before being cleared by your care team.\n",
      "0.6014 what about dancing?  Resuming dancing after a total knee replacement is something to approach with caution and optimism. Typically, you may start enjoying slow, gentle forms of dancing between 6 to 12 months post-surgery, always ensuring to avoid any high-impact moves or dances that could stress your new knee. It's crucial to listen to your body and stop immediately if you experience any pain or discomfort. \n",
      "\n",
      "As every individual's recovery is unique, obtaining explicit approval from your surgeon or care team before hitting the dance floor is vital. Engaging in physiotherapy could further enhance your recovery, making dancing a more achievable goal.\n",
      "0.5997 How should I modify my exercise routine? Post-surgery, start with gentle exercises like walking or stationary biking. Avoid high-impact activities. Gradually increase intensity based on comfort and doctor's advice. Additionally, it's important to consult with your healthcare provider for personalized advice tailored to your specific health condition and recovery progress.\n",
      "0.5994 can I go skiing It is typically advisable to avoid skiing for at least 9 to 12 months following a total knee replacement, to allow the prosthetic joint to fully integrate and the surrounding muscles to strengthen adequately. Adhering to your tailored rehabilitation program, emphasizing strength, flexibility, and balance, is crucial during this period.\n",
      "\n",
      "When contemplating a return to skiing, consider starting on gentle slopes with modern, well-adjusted equipment and possibly a custom-fitted knee brace for extra support. A cautious and gradual approach to resuming skiing can help protect the new joint and support a successful return to the activity, while minimizing the risk of injury.\n",
      "\n",
      "It's important to consult with your healthcare provider throughout your recovery to assess your readiness for skiing, as they can offer personalized advice based on your progress. You should not ski before being cleared by your care team.\n",
      "0.5983 what about snowboarding? It is typically advisable to avoid snowboarding for at least 9 to 12 months following a total knee replacement, to allow the prosthetic joint to fully integrate and the surrounding muscles to strengthen adequately. Adhering to your tailored rehabilitation program, emphasizing strength, flexibility, and balance, is crucial during this period.\n",
      "\n",
      "When contemplating a return to snowboarding, consider starting on gentle slopes with modern, well-adjusted equipment and possibly a custom-fitted knee brace for extra support. A cautious and gradual approach to resuming snowboarding can help protect the new joint and support a successful return to the activity, while minimizing the risk of injury.\n",
      "\n",
      "It's important to consult with your healthcare provider throughout your recovery to assess your readiness for snowboarding, as they can offer personalized advice based on your progress. You should not snowboard before being cleared by your care team.\n",
      "0.5981 My knee still hurts but am I able to drive? Driving after a total knee replacement is possible, but not immediately. Most patients can expect to resume driving between 4 and 6 weeks after surgery, though it may take longer depending on individual recovery progress. Your care team will assess your pain, range of motion, strength, and reflexes to determine the safest timeframe for you, but here are some important considerations and tips.\n",
      "\n",
      "Important factors:\n",
      "- **Right knee replacements:** May require waiting longer than left knees due to braking dominance.\n",
      "- **Pain and movement:** You should be able to comfortably bend and extend your knee without significant pain.\n",
      "- **Strength and control:** You need sufficient leg strength and full control over your knee to operate the pedals safely.\n",
      "- **Reaction time:** Your reflexes and ability to react quickly should be back to normal.\n",
      "\n",
      "Tips for safe driving:\n",
      "- Start with short trips and gradually increase distance.\n",
      "- Practice operating the pedals at home before driving.\n",
      "- Use an automatic car to avoid clutch control.\n",
      "- Adjust your seat and mirrors for comfortable positioning.\n",
      "- Avoid peak traffic and prioritize your safety.\n",
      "\n",
      "Always follow your care team's instructions and listen to your body. Don't hesitate to ask for clarification if needed. Your safe return to driving is the priority.\n",
      "0.5959 What are some good exercises for my knee in different weathers? It's natural to notice changes in your joint comfort as the seasons shift. Whether it's the crisp chill of winter or the humid embrace of summer, fluctuating weather can sometimes bring unwanted sensations to your knee replacement. While this is quite common, it doesn't have to hold you back from enjoying all that life offers. Here are some strategies to keep your joint happy regardless of the weather forecast:\n",
      "\n",
      "1. **Warm up your joint:** Before venturing out into the elements, take 10-15 minutes to gently prepare your knee. Light stretches, indoor walking, or a few minutes on a stationary bike can increase blood flow and loosen things up, making your joint feel more mobile and ready for action.\n",
      "\n",
      "2. **Embrace the power of warmth:** Whether it's a cozy brace, a soothing warm compress, or a gentle heating pad session, providing warmth to your joint can work wonders. Think of it as giving your knee a warm hug, promoting relaxation and reducing stiffness.\n",
      "\n",
      "3. **Stay limber throughout the day:** Don't let changing weather confine you to the couch! Incorporate gentle range-of-motion exercises and stretches into your daily routine, even if it's just a few minutes here and there. This keeps your joint lubricated and flexible, helping it adapt to the changing seasons with ease.\n",
      "\n",
      "4. **Listen to your body:** Your body is your ultimate weatherman. Pay attention to your pain levels and adjust your activities accordingly. If something hurts, listen! Taking breaks and respecting your limitations are crucial for maintaining long-term joint health and comfort.\n",
      "\n",
      "5. **Partner with your healthcare team:** Don't hesitate to consult your doctor or therapist if your joint discomfort becomes severe or persistent. They can provide personalized recommendations and support to ensure you navigate the seasons with confidence and comfort.\n",
      "\n",
      "Remember, proactive measures and a little TLC can go a long way in managing your joint comfort despite the weather's whims. Embrace the changing seasons, adjust your routine as needed, and enjoy the freedom of movement your knee replacement offers!\n",
      "0.5956 can I snowboard It is typically advisable to avoid snowboarding for at least 9 to 12 months following a total knee replacement, to allow the prosthetic joint to fully integrate and the surrounding muscles to strengthen adequately. Adhering to your tailored rehabilitation program, emphasizing strength, flexibility, and balance, is crucial during this period.\n",
      "\n",
      "When contemplating a return to snowboarding, consider starting on gentle slopes with modern, well-adjusted equipment and possibly a custom-fitted knee brace for extra support. A cautious and gradual approach to resuming snowboarding can help protect the new joint and support a successful return to the activity, while minimizing the risk of injury.\n",
      "\n",
      "It's important to consult with your healthcare provider throughout your recovery to assess your readiness for snowboarding, as they can offer personalized advice based on your progress. You should not snowboard before being cleared by your care team.\n"
     ]
    }
   ],
   "source": [
    "# Test query\n",
    "response = my_index_endpoint.find_neighbors(\n",
    "    deployed_index_id=DEPLOYED_INDEX_ID,\n",
    "    queries=test_embeddings,\n",
    "    num_neighbors=20,\n",
    ")\n",
    "\n",
    "# show the result\n",
    "import numpy as np\n",
    "\n",
    "for idx, neighbor in enumerate(response[0]):\n",
    "    id = np.int64(neighbor.id)\n",
    "    similar = df.query(\"id == @id\", engine=\"python\")\n",
    "    print(f\"{neighbor.distance:.4f} {similar.title.values[0]}\")"
   ]
  },
  {
   "cell_type": "code",
   "execution_count": 24,
   "id": "70305b82-cd0f-42ca-a8f8-2566278b4bbd",
   "metadata": {
    "tags": []
   },
   "outputs": [
    {
     "data": {
      "text/html": [
       "<div>\n",
       "<style scoped>\n",
       "    .dataframe tbody tr th:only-of-type {\n",
       "        vertical-align: middle;\n",
       "    }\n",
       "\n",
       "    .dataframe tbody tr th {\n",
       "        vertical-align: top;\n",
       "    }\n",
       "\n",
       "    .dataframe thead th {\n",
       "        text-align: right;\n",
       "    }\n",
       "</style>\n",
       "<table border=\"1\" class=\"dataframe\">\n",
       "  <thead>\n",
       "    <tr style=\"text-align: right;\">\n",
       "      <th></th>\n",
       "      <th>id</th>\n",
       "      <th>title</th>\n",
       "      <th>embedding</th>\n",
       "    </tr>\n",
       "  </thead>\n",
       "  <tbody>\n",
       "    <tr>\n",
       "      <th>0</th>\n",
       "      <td>1</td>\n",
       "      <td>When can I start driving again? Driving after ...</td>\n",
       "      <td>[-0.0066839782521128654, -0.03569670766592026,...</td>\n",
       "    </tr>\n",
       "    <tr>\n",
       "      <th>1</th>\n",
       "      <td>2</td>\n",
       "      <td>When can I drive? Driving after a total knee r...</td>\n",
       "      <td>[-0.008440850302577019, -0.04061223939061165, ...</td>\n",
       "    </tr>\n",
       "    <tr>\n",
       "      <th>2</th>\n",
       "      <td>3</td>\n",
       "      <td>When will I be able to drive again? Driving af...</td>\n",
       "      <td>[-0.009732662700116634, -0.03572031483054161, ...</td>\n",
       "    </tr>\n",
       "    <tr>\n",
       "      <th>3</th>\n",
       "      <td>4</td>\n",
       "      <td>My knee still hurts but am I able to drive? Dr...</td>\n",
       "      <td>[-0.020311227068305016, -0.02924209088087082, ...</td>\n",
       "    </tr>\n",
       "    <tr>\n",
       "      <th>4</th>\n",
       "      <td>5</td>\n",
       "      <td>How long after surgery can I drive? Driving af...</td>\n",
       "      <td>[-0.010605815798044205, -0.036168962717056274,...</td>\n",
       "    </tr>\n",
       "    <tr>\n",
       "      <th>...</th>\n",
       "      <td>...</td>\n",
       "      <td>...</td>\n",
       "      <td>...</td>\n",
       "    </tr>\n",
       "    <tr>\n",
       "      <th>711</th>\n",
       "      <td>712</td>\n",
       "      <td>I need to enter my Range of Motion  Range of M...</td>\n",
       "      <td>[-0.016848498955368996, 0.0123526556417346, 0....</td>\n",
       "    </tr>\n",
       "    <tr>\n",
       "      <th>712</th>\n",
       "      <td>713</td>\n",
       "      <td>Enter Range of Motion  Range of Motion is show...</td>\n",
       "      <td>[-0.017624136060476303, 0.014032304286956787, ...</td>\n",
       "    </tr>\n",
       "    <tr>\n",
       "      <th>713</th>\n",
       "      <td>714</td>\n",
       "      <td>How should I ask you questions to get good ans...</td>\n",
       "      <td>[0.008159597404301167, 0.017265047878026962, 0...</td>\n",
       "    </tr>\n",
       "    <tr>\n",
       "      <th>714</th>\n",
       "      <td>715</td>\n",
       "      <td>How should I format my questions Thank you for...</td>\n",
       "      <td>[0.017281178385019302, 0.024744654074311256, 0...</td>\n",
       "    </tr>\n",
       "    <tr>\n",
       "      <th>715</th>\n",
       "      <td>716</td>\n",
       "      <td>How should I format my questions to you? Thank...</td>\n",
       "      <td>[0.0129941301420331, 0.023652395233511925, 0.0...</td>\n",
       "    </tr>\n",
       "  </tbody>\n",
       "</table>\n",
       "<p>716 rows × 3 columns</p>\n",
       "</div>"
      ],
      "text/plain": [
       "      id                                              title  \\\n",
       "0      1  When can I start driving again? Driving after ...   \n",
       "1      2  When can I drive? Driving after a total knee r...   \n",
       "2      3  When will I be able to drive again? Driving af...   \n",
       "3      4  My knee still hurts but am I able to drive? Dr...   \n",
       "4      5  How long after surgery can I drive? Driving af...   \n",
       "..   ...                                                ...   \n",
       "711  712  I need to enter my Range of Motion  Range of M...   \n",
       "712  713  Enter Range of Motion  Range of Motion is show...   \n",
       "713  714  How should I ask you questions to get good ans...   \n",
       "714  715  How should I format my questions Thank you for...   \n",
       "715  716  How should I format my questions to you? Thank...   \n",
       "\n",
       "                                             embedding  \n",
       "0    [-0.0066839782521128654, -0.03569670766592026,...  \n",
       "1    [-0.008440850302577019, -0.04061223939061165, ...  \n",
       "2    [-0.009732662700116634, -0.03572031483054161, ...  \n",
       "3    [-0.020311227068305016, -0.02924209088087082, ...  \n",
       "4    [-0.010605815798044205, -0.036168962717056274,...  \n",
       "..                                                 ...  \n",
       "711  [-0.016848498955368996, 0.0123526556417346, 0....  \n",
       "712  [-0.017624136060476303, 0.014032304286956787, ...  \n",
       "713  [0.008159597404301167, 0.017265047878026962, 0...  \n",
       "714  [0.017281178385019302, 0.024744654074311256, 0...  \n",
       "715  [0.0129941301420331, 0.023652395233511925, 0.0...  \n",
       "\n",
       "[716 rows x 3 columns]"
      ]
     },
     "execution_count": 24,
     "metadata": {},
     "output_type": "execute_result"
    }
   ],
   "source": [
    "df"
   ]
  },
  {
   "cell_type": "code",
   "execution_count": 25,
   "id": "7a547185-efb2-4ec9-a5d6-fb24596d9b4e",
   "metadata": {
    "tags": []
   },
   "outputs": [],
   "source": [
    "df.to_csv(\"Orva_Embed_File.csv\")"
   ]
  },
  {
   "cell_type": "code",
   "execution_count": null,
   "id": "b2f957db-eb56-48fa-8e92-75ae1177685f",
   "metadata": {},
   "outputs": [],
   "source": []
  }
 ],
 "metadata": {
  "environment": {
   "kernel": "python3",
   "name": "tf2-cpu.2-11.m120",
   "type": "gcloud",
   "uri": "us-docker.pkg.dev/deeplearning-platform-release/gcr.io/tf2-cpu.2-11:m120"
  },
  "kernelspec": {
   "display_name": "Python 3 (ipykernel)",
   "language": "python",
   "name": "python3"
  },
  "language_info": {
   "codemirror_mode": {
    "name": "ipython",
    "version": 3
   },
   "file_extension": ".py",
   "mimetype": "text/x-python",
   "name": "python",
   "nbconvert_exporter": "python",
   "pygments_lexer": "ipython3",
   "version": "3.12.3"
  }
 },
 "nbformat": 4,
 "nbformat_minor": 5
}
